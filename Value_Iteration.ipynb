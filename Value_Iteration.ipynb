{
 "cells": [
  {
   "cell_type": "markdown",
   "metadata": {},
   "source": [
    "## Value Iteration - Table Representation"
   ]
  },
  {
   "cell_type": "markdown",
   "metadata": {},
   "source": [
    "#### Imports"
   ]
  },
  {
   "cell_type": "code",
   "execution_count": 2,
   "metadata": {
    "collapsed": false
   },
   "outputs": [],
   "source": [
    "import numpy as np\n",
    "np.random.seed(1337)"
   ]
  },
  {
   "cell_type": "markdown",
   "metadata": {},
   "source": [
    "#### Parameters"
   ]
  },
  {
   "cell_type": "code",
   "execution_count": null,
   "metadata": {
    "collapsed": true
   },
   "outputs": [],
   "source": [
    "n_states = 10 # Number of states\n",
    "gamma = 0.9 # Discount Factor\n",
    "tolerance = 0.00001 # Convergence criteria"
   ]
  },
  {
   "cell_type": "markdown",
   "metadata": {},
   "source": [
    "#### Set state rewards"
   ]
  },
  {
   "cell_type": "code",
   "execution_count": null,
   "metadata": {
    "collapsed": true
   },
   "outputs": [],
   "source": [
    "rewards = np.zeros(n_states)\n",
    "rewards[9] = 1 # Goal state\n",
    "rewards[8] = -1 # Penalty state"
   ]
  },
  {
   "cell_type": "markdown",
   "metadata": {},
   "source": [
    "#### Define transition probabilities"
   ]
  },
  {
   "cell_type": "code",
   "execution_count": null,
   "metadata": {
    "collapsed": true
   },
   "outputs": [],
   "source": [
    "transition_prob = np.random.random([n_states,n_states])\n",
    "s = transition_prob.sum(axis=-1)\n",
    "transition_prob = transition_prob/np.repeat(s,10).reshape([n_states,n_states]) # Normalization\n",
    "transition_prob[8] = 0 # Make goal state terminal\n",
    "transition_prob[9] = 0 # Make penalty state terminal"
   ]
  },
  {
   "cell_type": "markdown",
   "metadata": {},
   "source": [
    "#### Initialize state values"
   ]
  },
  {
   "cell_type": "code",
   "execution_count": null,
   "metadata": {
    "collapsed": true
   },
   "outputs": [],
   "source": [
    "state_values = np.zeros(n_states)\n",
    "estimated_state_values = np.zeros(n_states)"
   ]
  },
  {
   "cell_type": "markdown",
   "metadata": {},
   "source": [
    "#### Value Iteration through Bellman updates until convergence"
   ]
  },
  {
   "cell_type": "code",
   "execution_count": 17,
   "metadata": {
    "collapsed": false
   },
   "outputs": [
    {
     "name": "stdout",
     "output_type": "stream",
     "text": [
      "[ 0.  0.  0.  0.  0.  0.  0.  0. -1.  1.]\n",
      "[ 0.01099568  0.05100129  0.09972812  0.16620632 -0.11941359  0.07652025\n",
      " -0.00835717 -0.16466717 -1.          1.        ]\n",
      "[ 0.0321968   0.0711343   0.13001374  0.12646647 -0.11399018  0.11503669\n",
      "  0.0198571  -0.1704604  -1.          1.        ]\n",
      "[ 0.04265429  0.08482579  0.13869135  0.1332452  -0.10814536  0.12108797\n",
      "  0.03088385 -0.15707057 -1.          1.        ]\n",
      "[ 0.04925874  0.09116212  0.14567394  0.14037227 -0.10170985  0.12835814\n",
      "  0.03870479 -0.1510823  -1.          1.        ]\n",
      "[ 0.05429988  0.09568022  0.15095448  0.14496013 -0.09707606  0.13329825\n",
      "  0.04450458 -0.14645513 -1.          1.        ]\n",
      "[ 0.05790992  0.0989873   0.1547073   0.14836523 -0.09373552  0.13685888\n",
      "  0.04865646 -0.14310042 -1.          1.        ]\n",
      "[ 0.06051827  0.10136571  0.15742536  0.15082078 -0.09131906  0.13943684\n",
      "  0.05165775 -0.1406849  -1.          1.        ]\n",
      "[ 0.06240263  0.10308446  0.15938827  0.15259354 -0.08957411  0.1412978\n",
      "  0.0538256  -0.13893917 -1.          1.        ]\n",
      "[ 0.06376355  0.10432586  0.16080594  0.15387417 -0.08831378  0.14264198\n",
      "  0.05539129 -0.13767835 -1.          1.        ]\n",
      "[ 0.06474651  0.10522247  0.1618299   0.1547991  -0.08740348  0.14361284\n",
      "  0.05652215 -0.1367677  -1.          1.        ]\n",
      "[ 0.06545647  0.10587006  0.16256947  0.15546715 -0.08674599  0.14431406\n",
      "  0.05733894 -0.13610996 -1.          1.        ]\n",
      "[ 0.06596925  0.1063378   0.16310364  0.15594967 -0.08627111  0.14482053\n",
      "  0.05792887 -0.1356349  -1.          1.        ]\n",
      "[ 0.06633962  0.10667563  0.16348945  0.15629817 -0.08592812  0.14518634\n",
      "  0.05835497 -0.13529178 -1.          1.        ]\n",
      "[ 0.06660712  0.10691964  0.16376811  0.15654988 -0.08568039  0.14545055\n",
      "  0.05866272 -0.13504396 -1.          1.        ]\n",
      "[ 0.06680033  0.10709588  0.16396938  0.15673169 -0.08550146  0.14564138\n",
      "  0.058885   -0.13486496 -1.          1.        ]\n",
      "[ 0.06693988  0.10722317  0.16411475  0.156863   -0.08537223  0.14577922\n",
      "  0.05904555 -0.13473568 -1.          1.        ]\n",
      "[ 0.06704068  0.10731511  0.16421974  0.15695784 -0.08527889  0.14587877\n",
      "  0.05916151 -0.1346423  -1.          1.        ]\n",
      "[ 0.06711348  0.10738151  0.16429558  0.15702634 -0.08521147  0.14595067\n",
      "  0.05924526 -0.13457486 -1.          1.        ]\n",
      "[ 0.06716606  0.10742947  0.16435035  0.15707582 -0.08516278  0.1460026\n",
      "  0.05930575 -0.13452614 -1.          1.        ]\n",
      "[ 0.06720403  0.10746411  0.16438991  0.15711156 -0.08512761  0.14604011\n",
      "  0.05934944 -0.13449096 -1.          1.        ]\n",
      "[ 0.06723146  0.10748913  0.16441849  0.15713737 -0.0851022   0.14606721\n",
      "  0.059381   -0.13446555 -1.          1.        ]\n",
      "[ 0.06725127  0.1075072   0.16443912  0.15715601 -0.08508386  0.14608677\n",
      "  0.05940379 -0.13444719 -1.          1.        ]\n",
      "[ 0.06726558  0.10752026  0.16445403  0.15716947 -0.08507061  0.14610091\n",
      "  0.05942026 -0.13443394 -1.          1.        ]\n",
      "[ 0.06726558  0.10752026  0.16445403  0.15716947 -0.08507061  0.14610091\n",
      "  0.05942026 -0.13443394 -1.          1.        ]\n"
     ]
    }
   ],
   "source": [
    "while True:\n",
    "    k += 1\n",
    "    for s in range(n_states):\n",
    "        estimated_state_values[s] = rewards[s] + gamma*np.dot(transition_prob[s], state_values) # Bellman Update\n",
    "    if np.abs((state_values - estimated_state_values)).mean() < tolerance:\n",
    "        break\n",
    "    state_values = estimated_state_values.copy()\n",
    "    print state_values\n",
    "        \n",
    "print(state_values)"
   ]
  }
 ],
 "metadata": {
  "kernelspec": {
   "display_name": "Python 2",
   "language": "python",
   "name": "python2"
  },
  "language_info": {
   "codemirror_mode": {
    "name": "ipython",
    "version": 2
   },
   "file_extension": ".py",
   "mimetype": "text/x-python",
   "name": "python",
   "nbconvert_exporter": "python",
   "pygments_lexer": "ipython2",
   "version": "2.7.12"
  }
 },
 "nbformat": 4,
 "nbformat_minor": 1
}
