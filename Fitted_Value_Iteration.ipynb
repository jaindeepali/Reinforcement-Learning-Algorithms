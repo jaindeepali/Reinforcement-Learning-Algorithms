{
 "cells": [
  {
   "cell_type": "markdown",
   "metadata": {},
   "source": [
    "## Fitted Value Iteration - Function Approximation"
   ]
  },
  {
   "cell_type": "markdown",
   "metadata": {},
   "source": [
    "#### Imports"
   ]
  },
  {
   "cell_type": "code",
   "execution_count": 61,
   "metadata": {
    "collapsed": false
   },
   "outputs": [],
   "source": [
    "import numpy as np\n",
    "import tensorflow as tf\n",
    "np.random.seed(1337)"
   ]
  },
  {
   "cell_type": "markdown",
   "metadata": {},
   "source": [
    "#### Parameters"
   ]
  },
  {
   "cell_type": "code",
   "execution_count": 70,
   "metadata": {
    "collapsed": false
   },
   "outputs": [],
   "source": [
    "n_states = 100 # Number of states\n",
    "gamma = 0.9 # Discount Factor\n",
    "learning_rate = 0.8 # Learning Rate\n",
    "tolerance = 0.001 # Convergence criteria\n",
    "iterations = 100# Number of iterations\n",
    "n_epoch = 500 # Number of model training epochs"
   ]
  },
  {
   "cell_type": "markdown",
   "metadata": {},
   "source": [
    "#### Set state rewards"
   ]
  },
  {
   "cell_type": "code",
   "execution_count": 63,
   "metadata": {
    "collapsed": true
   },
   "outputs": [],
   "source": [
    "rewards = np.zeros(n_states)\n",
    "rewards[-1] = 1 # Goal state\n",
    "rewards[-2] = -1 # Penalty state"
   ]
  },
  {
   "cell_type": "markdown",
   "metadata": {},
   "source": [
    "#### Define transition probabilities"
   ]
  },
  {
   "cell_type": "code",
   "execution_count": 64,
   "metadata": {
    "collapsed": false
   },
   "outputs": [],
   "source": [
    "transition_prob = np.random.random([n_states,n_states])\n",
    "s = transition_prob.sum(axis=-1)\n",
    "transition_prob = transition_prob/np.repeat(s,n_states).reshape([n_states,n_states]) # Normalization\n",
    "transition_prob[-1] = 0 # Make goal state terminal\n",
    "transition_prob[-2] = 0 # Make penalty state terminal"
   ]
  },
  {
   "cell_type": "markdown",
   "metadata": {},
   "source": [
    "#### Initialize value network"
   ]
  },
  {
   "cell_type": "code",
   "execution_count": 65,
   "metadata": {
    "collapsed": false
   },
   "outputs": [],
   "source": [
    "inputs = tf.placeholder(tf.float32, [None, n_states])\n",
    "weights = tf.Variable(tf.zeros([n_states,1]))\n",
    "outputs = tf.matmul(inputs, weights)\n",
    "targets = tf.placeholder(tf.float32, [None, 1])"
   ]
  },
  {
   "cell_type": "markdown",
   "metadata": {},
   "source": [
    "#### Define loss and optimizer "
   ]
  },
  {
   "cell_type": "code",
   "execution_count": 66,
   "metadata": {
    "collapsed": false
   },
   "outputs": [],
   "source": [
    "loss = tf.losses.mean_squared_error(targets, outputs)\n",
    "optimizer = tf.train.AdamOptimizer(learning_rate=learning_rate).minimize(loss)"
   ]
  },
  {
   "cell_type": "markdown",
   "metadata": {},
   "source": [
    "#### Fitted Value Iteration through Bellman updates until convergence"
   ]
  },
  {
   "cell_type": "code",
   "execution_count": 74,
   "metadata": {
    "collapsed": false
   },
   "outputs": [
    {
     "name": "stdout",
     "output_type": "stream",
     "text": [
      "Iteration 0, Error 0.000000\n",
      "Iteration 1, Error 0.000000\n",
      "Iteration 2, Error 0.000000\n",
      "Iteration 3, Error 0.000000\n",
      "Iteration 4, Error 0.000000\n",
      "Iteration 5, Error 0.000000\n",
      "Iteration 6, Error 0.000000\n",
      "Iteration 7, Error 0.000005\n",
      "Iteration 8, Error 0.000331\n",
      "Iteration 9, Error 0.000548\n",
      "Iteration 10, Error 0.000476\n",
      "Iteration 11, Error 0.000558\n",
      "Iteration 12, Error 0.000309\n",
      "Iteration 13, Error 0.000455\n",
      "Iteration 14, Error 0.000321\n",
      "Iteration 15, Error 0.000422\n",
      "Iteration 16, Error 0.000293\n",
      "Iteration 17, Error 0.000757\n",
      "Iteration 18, Error 0.000402\n",
      "Iteration 19, Error 0.000448\n",
      "Iteration 20, Error 0.000438\n",
      "Iteration 21, Error 0.000329\n",
      "Iteration 22, Error 0.000379\n",
      "Iteration 23, Error 0.000219\n",
      "Iteration 24, Error 0.000352\n",
      "Iteration 25, Error 0.000672\n",
      "Iteration 26, Error 0.000551\n",
      "Iteration 27, Error 0.000523\n",
      "Iteration 28, Error 0.000362\n",
      "Iteration 29, Error 0.000524\n",
      "Iteration 30, Error 0.000704\n",
      "Iteration 31, Error 0.000528\n",
      "Iteration 32, Error 0.000658\n",
      "Iteration 33, Error 0.000951\n",
      "Iteration 34, Error 0.000256\n",
      "Iteration 35, Error 0.000363\n",
      "Iteration 36, Error 0.000199\n",
      "Iteration 37, Error 0.000441\n",
      "Iteration 38, Error 0.000365\n",
      "Iteration 39, Error 0.000292\n",
      "Iteration 40, Error 0.000308\n",
      "Iteration 41, Error 0.000478\n",
      "Iteration 42, Error 0.000443\n",
      "Iteration 43, Error 0.000644\n",
      "Iteration 44, Error 0.000424\n",
      "Iteration 45, Error 0.000249\n",
      "Iteration 46, Error 0.000281\n",
      "Iteration 47, Error 0.000341\n",
      "Iteration 48, Error 0.000213\n",
      "Iteration 49, Error 0.000583\n",
      "Iteration 50, Error 0.000583\n",
      "Iteration 51, Error 0.000227\n",
      "Iteration 52, Error 0.000503\n",
      "Iteration 53, Error 0.000452\n",
      "Iteration 54, Error 0.000697\n",
      "Iteration 55, Error 0.000449\n",
      "Iteration 56, Error 0.000331\n",
      "Iteration 57, Error 0.000545\n",
      "Iteration 58, Error 0.000559\n",
      "Iteration 59, Error 0.000449\n",
      "Iteration 60, Error 0.000442\n",
      "Iteration 61, Error 0.000595\n",
      "Iteration 62, Error 0.000520\n",
      "Iteration 63, Error 0.000792\n",
      "Iteration 64, Error 0.000482\n",
      "Iteration 65, Error 0.000423\n",
      "Iteration 66, Error 0.000340\n",
      "Iteration 67, Error 0.000335\n",
      "Iteration 68, Error 0.000364\n",
      "Iteration 69, Error 0.000660\n",
      "Iteration 70, Error 0.000370\n",
      "Iteration 71, Error 0.000942\n",
      "Iteration 72, Error 0.000175\n",
      "Iteration 73, Error 0.000513\n",
      "Iteration 74, Error 0.000814\n",
      "Iteration 75, Error 0.000527\n",
      "Iteration 76, Error 0.000795\n",
      "Iteration 77, Error 0.000339\n",
      "Iteration 78, Error 0.000463\n",
      "Iteration 79, Error 0.000231\n",
      "Iteration 80, Error 0.000254\n",
      "Iteration 81, Error 0.000429\n",
      "Iteration 82, Error 0.000578\n",
      "Iteration 83, Error 0.000681\n",
      "Iteration 84, Error 0.000777\n",
      "Iteration 85, Error 0.000869\n",
      "Iteration 86, Error 0.000204\n",
      "Iteration 87, Error 0.000440\n",
      "Iteration 88, Error 0.000462\n",
      "Iteration 89, Error 0.000569\n",
      "Iteration 90, Error 0.000310\n",
      "Iteration 91, Error 0.000409\n",
      "Iteration 92, Error 0.000441\n",
      "Iteration 93, Error 0.000530\n",
      "Iteration 94, Error 0.000396\n",
      "Iteration 95, Error 0.000630\n",
      "Iteration 96, Error 0.000602\n",
      "Iteration 97, Error 0.000576\n",
      "Iteration 98, Error 0.000582\n",
      "Iteration 99, Error 0.000397\n",
      "[ -3.88658047e-03  -1.57390740e-02  -8.22620280e-03   1.81898521e-03\n",
      "  -8.38642567e-03  -1.75312720e-03  -2.46537831e-02  -9.10239108e-03\n",
      "   7.40509629e-02  -4.82896902e-03  -3.45850401e-02  -1.88888013e-02\n",
      "  -6.84408098e-02  -2.27155443e-03  -3.05963727e-03  -8.76416080e-03\n",
      "  -2.84357592e-02  -3.89574617e-02   4.92575299e-03   6.60317689e-02\n",
      "  -5.56260953e-03  -4.38740151e-03  -6.77838922e-04  -1.11851990e-02\n",
      "  -1.12760328e-02   4.61633923e-03   8.27341713e-03  -7.21470173e-03\n",
      "  -4.95174807e-03   2.72736605e-03  -7.48332916e-03  -8.47343914e-03\n",
      "  -3.89383584e-02  -1.59358140e-02  -1.32887522e-02  -2.93667079e-03\n",
      "   3.12070921e-03  -1.86578289e-03  -2.53927112e-02  -2.51711067e-03\n",
      "  -3.56673077e-03  -4.63219639e-03  -1.62535571e-02  -5.36483154e-03\n",
      "  -8.60047620e-03  -1.48397535e-02  -1.69472420e-03   6.46813586e-03\n",
      "  -1.86967254e-02   1.19770188e-02  -6.06643036e-03  -9.60816257e-03\n",
      "  -4.43421211e-03   7.20668584e-04  -4.56944294e-03  -2.40550013e-04\n",
      "  -3.35616898e-03  -4.74168360e-03  -2.42897659e-04  -5.01164235e-03\n",
      "  -6.65895315e-03  -3.10060531e-02  -8.43677018e-03   1.98157155e-03\n",
      "  -6.94177172e-04  -7.29262596e-03   3.19686253e-04  -1.12280361e-02\n",
      "   1.42533192e-02   5.45396144e-03   9.83864665e-02   7.97111169e-03\n",
      "   7.93815926e-02   6.94205752e-04  -3.84066440e-03   4.74699140e-02\n",
      "  -9.44121648e-03   2.06926391e-02  -1.77017041e-02   7.63571297e-04\n",
      "  -7.41882063e-03  -1.85420699e-02  -1.14394566e-02  -1.61321238e-02\n",
      "  -7.12574180e-03   5.71838021e-03  -6.13826001e-03  -2.87345275e-02\n",
      "  -6.55667391e-03  -6.72302842e-02   8.08677229e-04   8.77393875e-03\n",
      "  -3.88425263e-03  -4.98747570e-04  -6.95439894e-03   5.09710982e-02\n",
      "   2.38272343e-02  -5.74445911e-03  -1.00000000e+00   1.00000000e+00]\n"
     ]
    }
   ],
   "source": [
    "init = tf.global_variables_initializer()\n",
    "state_one_hot = np.eye(n_states)\n",
    "\n",
    "with tf.Session() as sess:\n",
    "    sess.run(init)\n",
    "    for itr in range(iterations):\n",
    "        v_theta = sess.run([outputs], feed_dict={inputs: state_one_hot})[0].T[0]\n",
    "        v_estimated = np.zeros(n_states)\n",
    "        for s in range(n_states):\n",
    "            v_estimated[s] = rewards[s] + gamma*np.dot(transition_prob[s], v_theta) # Bellman Update\n",
    "        v_estimated = np.expand_dims(v_estimated, -1)\n",
    "        for i in range(n_epoch):\n",
    "            _, mse = sess.run([optimizer, loss], feed_dict={inputs: state_one_hot, targets: v_estimated})\n",
    "        print('Iteration %d, Error %f' % (itr, mse))\n",
    "                \n",
    "print(v_theta)"
   ]
  }
 ],
 "metadata": {
  "kernelspec": {
   "display_name": "Python 2",
   "language": "python",
   "name": "python2"
  },
  "language_info": {
   "codemirror_mode": {
    "name": "ipython",
    "version": 2
   },
   "file_extension": ".py",
   "mimetype": "text/x-python",
   "name": "python",
   "nbconvert_exporter": "python",
   "pygments_lexer": "ipython2",
   "version": "2.7.12"
  }
 },
 "nbformat": 4,
 "nbformat_minor": 1
}
