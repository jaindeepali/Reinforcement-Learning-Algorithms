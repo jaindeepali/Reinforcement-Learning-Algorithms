{
 "cells": [
  {
   "cell_type": "markdown",
   "metadata": {},
   "source": [
    "## Policy Gradient"
   ]
  },
  {
   "cell_type": "markdown",
   "metadata": {},
   "source": [
    "#### Imports"
   ]
  },
  {
   "cell_type": "code",
   "execution_count": 1,
   "metadata": {
    "collapsed": false
   },
   "outputs": [],
   "source": [
    "import numpy as np\n",
    "import tensorflow as tf\n",
    "np.random.seed(1337)"
   ]
  },
  {
   "cell_type": "markdown",
   "metadata": {},
   "source": [
    "#### Parameters"
   ]
  },
  {
   "cell_type": "code",
   "execution_count": 2,
   "metadata": {
    "collapsed": true
   },
   "outputs": [],
   "source": [
    "n_states = 10 # Number of states\n",
    "n_actions = 4 # Number of actions\n",
    "gamma = 0.9 # Discount Factor\n",
    "tolerance = 0.00001 # Convergence criteria\n",
    "max_iterations = 100 # Maximum number of iterations\n",
    "learning_rate = 0.8 # Learning Rate\n",
    "n_epoch = 500 # Number of model training epochs"
   ]
  },
  {
   "cell_type": "markdown",
   "metadata": {},
   "source": [
    "#### Set rewards R(s,a)"
   ]
  },
  {
   "cell_type": "code",
   "execution_count": 3,
   "metadata": {
    "collapsed": false
   },
   "outputs": [],
   "source": [
    "rewards = np.zeros([n_states, n_actions])\n",
    "rewards[-1] = 1 # Goal state\n",
    "rewards[-2] = -1 # Penalty state"
   ]
  },
  {
   "cell_type": "markdown",
   "metadata": {},
   "source": [
    "#### Define transition probabilities"
   ]
  },
  {
   "cell_type": "code",
   "execution_count": 4,
   "metadata": {
    "collapsed": false
   },
   "outputs": [],
   "source": [
    "transition_prob = np.random.random([n_states,n_actions,n_states])\n",
    "s = transition_prob.sum(axis=-1)\n",
    "transition_prob = transition_prob/np.repeat(s, n_states).reshape([n_states, n_actions, n_states]) # Normalization\n",
    "transition_prob[-1] = 0 # Make goal state terminal\n",
    "transition_prob[-1,:,-1] = 1 # Make goal state terminal\n",
    "transition_prob[-2] = 0 # Make penalty state terminal\n",
    "transition_prob[-2,:,-2] = 1 # Make goal state terminal"
   ]
  },
  {
   "cell_type": "markdown",
   "metadata": {},
   "source": [
    "Define Policy Network"
   ]
  },
  {
   "cell_type": "code",
   "execution_count": 7,
   "metadata": {
    "collapsed": false
   },
   "outputs": [],
   "source": [
    "inputs = tf.placeholder(tf.float32, [None, n_states])\n",
    "weights = tf.Variable(tf.zeros([n_states,n_actions]))\n",
    "outputs = tf.matmul(inputs, weights)\n",
    "targets = tf.placeholder(tf.float32, [None, n_actions])\n",
    "selected_actions = tf.argmax(outputs,1)"
   ]
  },
  {
   "cell_type": "markdown",
   "metadata": {},
   "source": [
    "#### Define loss and optimizer"
   ]
  },
  {
   "cell_type": "code",
   "execution_count": 8,
   "metadata": {
    "collapsed": false
   },
   "outputs": [],
   "source": [
    "loss = tf.losses.mean_squared_error(targets, outputs)\n",
    "optimizer = tf.train.AdamOptimizer(learning_rate=learning_rate).minimize(loss)"
   ]
  },
  {
   "cell_type": "markdown",
   "metadata": {},
   "source": [
    "#### Policy gradient through Bellman updates until convergence"
   ]
  },
  {
   "cell_type": "code",
   "execution_count": 11,
   "metadata": {
    "collapsed": false
   },
   "outputs": [
    {
     "name": "stdout",
     "output_type": "stream",
     "text": [
      "Iteration 1, Error 20.790823\n",
      "Iteration 2, Error 20.227566\n",
      "Iteration 3, Error 16.313326\n",
      "Iteration 4, Error 12.657439\n",
      "Iteration 5, Error 9.819757\n",
      "Iteration 6, Error 7.448901\n",
      "Iteration 7, Error 5.753360\n",
      "Iteration 8, Error 4.474958\n",
      "Iteration 9, Error 3.525198\n",
      "Iteration 10, Error 2.596204\n",
      "Iteration 11, Error 1.863461\n",
      "Iteration 12, Error 1.196033\n",
      "Iteration 13, Error 0.674459\n",
      "Iteration 14, Error 0.309178\n",
      "Iteration 15, Error 0.128507\n",
      "Iteration 16, Error 0.103010\n",
      "Iteration 17, Error 0.217050\n",
      "Iteration 18, Error 0.418176\n",
      "Iteration 19, Error 0.551833\n",
      "Iteration 20, Error 0.754273\n",
      "Iteration 21, Error 0.924122\n",
      "Iteration 22, Error 1.183784\n",
      "Iteration 23, Error 1.218796\n",
      "Iteration 24, Error 1.089127\n",
      "Iteration 25, Error 1.076974\n",
      "Iteration 26, Error 1.016996\n",
      "Iteration 27, Error 0.937115\n",
      "Iteration 28, Error 0.841047\n",
      "Iteration 29, Error 0.715186\n",
      "Iteration 30, Error 0.596040\n",
      "Iteration 31, Error 0.462986\n",
      "Iteration 32, Error 0.352280\n",
      "Iteration 33, Error 0.254923\n",
      "Iteration 34, Error 0.171440\n",
      "Iteration 35, Error 0.107324\n",
      "Iteration 36, Error 0.060187\n",
      "Iteration 37, Error 0.029319\n",
      "Iteration 38, Error 0.013608\n",
      "Iteration 39, Error 0.011437\n",
      "Iteration 40, Error 0.020454\n",
      "Iteration 41, Error 0.037477\n",
      "Iteration 42, Error 0.058686\n",
      "Iteration 43, Error 0.080121\n",
      "Iteration 44, Error 0.098323\n",
      "Iteration 45, Error 0.110915\n",
      "Iteration 46, Error 0.116889\n",
      "Iteration 47, Error 0.116490\n",
      "Iteration 48, Error 0.110798\n",
      "Iteration 49, Error 0.101198\n",
      "Iteration 50, Error 0.088975\n",
      "Iteration 51, Error 0.075173\n",
      "Iteration 52, Error 0.060670\n",
      "Iteration 53, Error 0.046317\n",
      "Iteration 54, Error 0.032984\n",
      "Iteration 55, Error 0.021475\n",
      "Iteration 56, Error 0.012383\n",
      "Iteration 57, Error 0.005994\n",
      "Iteration 58, Error 0.002300\n",
      "Iteration 59, Error 0.001065\n",
      "Iteration 60, Error 0.001881\n",
      "Iteration 61, Error 0.004186\n",
      "Iteration 62, Error 0.007282\n",
      "Iteration 63, Error 0.010433\n",
      "Iteration 64, Error 0.013023\n",
      "Iteration 65, Error 0.014698\n",
      "Iteration 66, Error 0.015405\n",
      "Iteration 67, Error 0.015292\n",
      "Iteration 68, Error 0.014548\n",
      "Iteration 69, Error 0.013297\n",
      "Iteration 70, Error 0.011596\n",
      "Iteration 71, Error 0.009525\n",
      "Iteration 72, Error 0.007252\n",
      "Iteration 73, Error 0.005029\n",
      "Iteration 74, Error 0.003111\n",
      "Iteration 75, Error 0.001670\n",
      "Iteration 76, Error 0.000756\n",
      "Iteration 77, Error 0.000318\n",
      "Iteration 78, Error 0.000257\n",
      "Iteration 79, Error 0.000464\n",
      "Iteration 80, Error 0.000840\n",
      "Iteration 81, Error 0.001291\n",
      "Iteration 82, Error 0.001731\n",
      "Iteration 83, Error 0.002089\n",
      "Iteration 84, Error 0.002319\n",
      "Iteration 85, Error 0.002400\n",
      "Iteration 86, Error 0.002336\n",
      "Iteration 87, Error 0.002146\n",
      "Iteration 88, Error 0.001856\n",
      "Iteration 89, Error 0.001501\n",
      "Iteration 90, Error 0.001121\n",
      "Iteration 91, Error 0.000758\n",
      "Iteration 92, Error 0.000453\n",
      "Iteration 93, Error 0.000230\n",
      "Iteration 94, Error 0.000099\n",
      "Iteration 95, Error 0.000048\n",
      "Iteration 96, Error 0.000058\n",
      "Iteration 97, Error 0.000107\n",
      "Iteration 98, Error 0.000177\n",
      "Iteration 99, Error 0.000254\n",
      "Iteration 100, Error 0.000327\n",
      "('Learned Policy', array([1, 2, 3, 1, 0, 2, 2, 3, 0, 0]))\n"
     ]
    }
   ],
   "source": [
    "init = tf.global_variables_initializer()\n",
    "state_one_hot = np.eye(n_states)\n",
    "\n",
    "with tf.Session() as sess:\n",
    "    sess.run(init)\n",
    "    itr = 0\n",
    "    I = np.eye(n_states, n_states)\n",
    "    while itr < max_iterations:\n",
    "        itr += 1\n",
    "        policy = sess.run([selected_actions], feed_dict={inputs: state_one_hot})[0]\n",
    "        rewards_p = rewards[np.arange(n_states), policy]\n",
    "        transition_prob_p = transition_prob[np.arange(n_states), policy, :]\n",
    "        state_values = np.dot(np.linalg.inv(I - gamma*transition_prob_p), rewards_p) # Policy Evaluation\n",
    "        action_values = rewards + gamma*np.dot(transition_prob, state_values)\n",
    "        _, mse = sess.run([optimizer, loss], feed_dict={inputs: state_one_hot, targets: action_values})\n",
    "        print('Iteration %d, Error %f' % (itr, mse))\n",
    "print('Learned Policy', policy)"
   ]
  }
 ],
 "metadata": {
  "kernelspec": {
   "display_name": "Python 2",
   "language": "python",
   "name": "python2"
  },
  "language_info": {
   "codemirror_mode": {
    "name": "ipython",
    "version": 2
   },
   "file_extension": ".py",
   "mimetype": "text/x-python",
   "name": "python",
   "nbconvert_exporter": "python",
   "pygments_lexer": "ipython2",
   "version": "2.7.12"
  }
 },
 "nbformat": 4,
 "nbformat_minor": 1
}
