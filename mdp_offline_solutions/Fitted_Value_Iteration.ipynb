{
 "cells": [
  {
   "cell_type": "markdown",
   "metadata": {},
   "source": [
    "## Fitted Value Iteration - Function Approximation"
   ]
  },
  {
   "cell_type": "markdown",
   "metadata": {},
   "source": [
    "#### Imports"
   ]
  },
  {
   "cell_type": "code",
   "execution_count": 12,
   "metadata": {
    "collapsed": false
   },
   "outputs": [],
   "source": [
    "import numpy as np\n",
    "import tensorflow as tf\n",
    "np.random.seed(1337)"
   ]
  },
  {
   "cell_type": "markdown",
   "metadata": {},
   "source": [
    "#### Parameters"
   ]
  },
  {
   "cell_type": "code",
   "execution_count": 13,
   "metadata": {
    "collapsed": false
   },
   "outputs": [],
   "source": [
    "n_states = 100 # Number of states\n",
    "n_actions = 4 # Number of actions\n",
    "gamma = 0.9 # Discount Factor\n",
    "learning_rate = 0.8 # Learning Rate\n",
    "tolerance = 0.001 # Convergence criteria\n",
    "iterations = 100# Number of iterations\n",
    "n_epoch = 500 # Number of model training epochs"
   ]
  },
  {
   "cell_type": "markdown",
   "metadata": {},
   "source": [
    "#### Set state rewards"
   ]
  },
  {
   "cell_type": "code",
   "execution_count": 14,
   "metadata": {
    "collapsed": true
   },
   "outputs": [],
   "source": [
    "rewards = np.zeros([n_states, n_actions])\n",
    "rewards[-1] = 1 # Goal state\n",
    "rewards[-2] = -1 # Penalty state"
   ]
  },
  {
   "cell_type": "markdown",
   "metadata": {},
   "source": [
    "#### Define transition probabilities"
   ]
  },
  {
   "cell_type": "code",
   "execution_count": 15,
   "metadata": {
    "collapsed": false
   },
   "outputs": [],
   "source": [
    "transition_prob = np.random.random([n_states,n_actions,n_states])\n",
    "s = transition_prob.sum(axis=-1)\n",
    "transition_prob = transition_prob/np.repeat(s, n_states).reshape([n_states, n_actions, n_states]) # Normalization\n",
    "transition_prob[-1] = 0 # Make goal state terminal\n",
    "transition_prob[-1,:,-1] = 1 # Make goal state terminal\n",
    "transition_prob[-2] = 0 # Make penalty state terminal\n",
    "transition_prob[-2,:,-2] = 1 # Make goal state terminal"
   ]
  },
  {
   "cell_type": "markdown",
   "metadata": {},
   "source": [
    "#### Initialize value network"
   ]
  },
  {
   "cell_type": "code",
   "execution_count": 16,
   "metadata": {
    "collapsed": false
   },
   "outputs": [],
   "source": [
    "inputs = tf.placeholder(tf.float32, [None, n_states])\n",
    "weights = tf.Variable(tf.zeros([n_states,1]))\n",
    "outputs = tf.matmul(inputs, weights)\n",
    "targets = tf.placeholder(tf.float32, [None, 1])"
   ]
  },
  {
   "cell_type": "markdown",
   "metadata": {},
   "source": [
    "#### Define loss and optimizer "
   ]
  },
  {
   "cell_type": "code",
   "execution_count": 17,
   "metadata": {
    "collapsed": false
   },
   "outputs": [],
   "source": [
    "loss = tf.losses.mean_squared_error(targets, outputs)\n",
    "optimizer = tf.train.AdamOptimizer(learning_rate=learning_rate).minimize(loss)"
   ]
  },
  {
   "cell_type": "markdown",
   "metadata": {},
   "source": [
    "#### Fitted Value Iteration through Bellman updates until convergence"
   ]
  },
  {
   "cell_type": "code",
   "execution_count": 18,
   "metadata": {
    "collapsed": false
   },
   "outputs": [
    {
     "name": "stdout",
     "output_type": "stream",
     "text": [
      "Iteration 0, Error 0.000000\n",
      "Iteration 1, Error 0.000000\n",
      "Iteration 2, Error 0.000000\n",
      "Iteration 3, Error 0.000000\n",
      "Iteration 4, Error 0.000000\n",
      "Iteration 5, Error 0.000000\n",
      "Iteration 6, Error 0.000000\n",
      "Iteration 7, Error 0.000000\n",
      "Iteration 8, Error 0.000000\n",
      "Iteration 9, Error 0.000034\n",
      "Iteration 10, Error 0.000429\n",
      "Iteration 11, Error 0.000005\n",
      "Iteration 12, Error 0.000005\n",
      "Iteration 13, Error 0.000060\n",
      "Iteration 14, Error 0.000234\n",
      "Iteration 15, Error 0.000510\n",
      "Iteration 16, Error 0.000398\n",
      "Iteration 17, Error 0.000234\n",
      "Iteration 18, Error 0.000346\n",
      "Iteration 19, Error 0.000581\n",
      "Iteration 20, Error 0.000110\n",
      "Iteration 21, Error 0.000670\n",
      "Iteration 22, Error 0.000389\n",
      "Iteration 23, Error 0.000137\n",
      "Iteration 24, Error 0.000131\n",
      "Iteration 25, Error 0.001193\n",
      "Iteration 26, Error 0.000405\n",
      "Iteration 27, Error 0.000505\n",
      "Iteration 28, Error 0.000344\n",
      "Iteration 29, Error 0.000598\n",
      "Iteration 30, Error 0.000487\n",
      "Iteration 31, Error 0.000519\n",
      "Iteration 32, Error 0.000300\n",
      "Iteration 33, Error 0.000417\n",
      "Iteration 34, Error 0.000320\n",
      "Iteration 35, Error 0.000696\n",
      "Iteration 36, Error 0.000357\n",
      "Iteration 37, Error 0.000177\n",
      "Iteration 38, Error 0.000579\n",
      "Iteration 39, Error 0.000267\n",
      "Iteration 40, Error 0.000597\n",
      "Iteration 41, Error 0.000592\n",
      "Iteration 42, Error 0.000994\n",
      "Iteration 43, Error 0.000254\n",
      "Iteration 44, Error 0.000395\n",
      "Iteration 45, Error 0.000677\n",
      "Iteration 46, Error 0.000799\n",
      "Iteration 47, Error 0.000125\n",
      "Iteration 48, Error 0.001197\n",
      "Iteration 49, Error 0.000644\n",
      "Iteration 50, Error 0.000600\n",
      "Iteration 51, Error 0.000597\n",
      "Iteration 52, Error 0.000575\n",
      "Iteration 53, Error 0.000738\n",
      "Iteration 54, Error 0.000193\n",
      "Iteration 55, Error 0.000280\n",
      "Iteration 56, Error 0.000452\n",
      "Iteration 57, Error 0.000351\n",
      "Iteration 58, Error 0.000474\n",
      "Iteration 59, Error 0.000222\n",
      "Iteration 60, Error 0.000376\n",
      "Iteration 61, Error 0.000621\n",
      "Iteration 62, Error 0.000716\n",
      "Iteration 63, Error 0.000302\n",
      "Iteration 64, Error 0.000470\n",
      "Iteration 65, Error 0.000554\n",
      "Iteration 66, Error 0.000462\n",
      "Iteration 67, Error 0.000946\n",
      "Iteration 68, Error 0.000464\n",
      "Iteration 69, Error 0.000482\n",
      "Iteration 70, Error 0.000613\n",
      "Iteration 71, Error 0.000325\n",
      "Iteration 72, Error 0.000462\n",
      "Iteration 73, Error 0.000298\n",
      "Iteration 74, Error 0.000686\n",
      "Iteration 75, Error 0.000902\n",
      "Iteration 76, Error 0.000935\n",
      "Iteration 77, Error 0.001111\n",
      "Iteration 78, Error 0.000797\n",
      "Iteration 79, Error 0.000232\n",
      "Iteration 80, Error 0.000672\n",
      "Iteration 81, Error 0.000937\n",
      "Iteration 82, Error 0.000384\n",
      "Iteration 83, Error 0.000441\n",
      "Iteration 84, Error 0.000265\n",
      "Iteration 85, Error 0.000610\n",
      "Iteration 86, Error 0.000760\n",
      "Iteration 87, Error 0.000538\n",
      "Iteration 88, Error 0.000215\n",
      "Iteration 89, Error 0.000630\n",
      "Iteration 90, Error 0.000517\n",
      "Iteration 91, Error 0.000066\n",
      "Iteration 92, Error 0.000375\n",
      "Iteration 93, Error 0.000525\n",
      "Iteration 94, Error 0.000273\n",
      "Iteration 95, Error 0.000494\n",
      "Iteration 96, Error 0.000169\n",
      "Iteration 97, Error 0.000381\n",
      "Iteration 98, Error 0.000632\n",
      "Iteration 99, Error 0.000427\n",
      "[  0.66243505   0.57873595   0.59302908   0.70454955   0.69807261\n",
      "   0.6421178    0.65053606   0.65728801   0.62650102   0.68588853\n",
      "   0.83988106   0.69338495   0.70871896   0.63888121   0.61426145\n",
      "   0.64017022   0.65013331   0.74599487   0.73314196   0.58534336\n",
      "   0.55543596   0.64155489   0.72655791   0.62922144   0.62482822\n",
      "   0.5932734    0.54778677   0.71759522   0.68519533   0.65504628\n",
      "   0.68320948   0.58874691   0.6666587    0.70251548   0.67249817\n",
      "   0.74002767   0.58771354   0.75115961   0.6673339    0.67044497\n",
      "   0.76495123   0.65031636   0.68683332   0.70852286   0.63201964\n",
      "   0.64793521   0.61961061   0.50447381   0.59541172   0.74446386\n",
      "   0.67387402   0.62481618   0.72059429   0.72201896   0.74907947\n",
      "   0.66671735   0.62592804   0.7240476    0.77943832   0.68228179\n",
      "   0.63482982   0.73187006   0.75571704   0.62012184   0.73768443\n",
      "   0.62584913   0.72508019   0.63723886   0.62974226   0.46209005\n",
      "   0.71604925   0.60494167   0.4988676    0.72883683   0.71831453\n",
      "   0.6506936    0.70255816   0.73586822   0.74026817   0.72477162\n",
      "   0.72910827   0.72866708   0.62306523   0.64619756   0.73232234\n",
      "   0.70459485   0.63408697   0.62091422   0.6278879    0.65127528\n",
      "   0.65954787   0.68272871   0.71291053   0.63980186   0.66391438\n",
      "   0.74352527   0.71276826   0.68841761 -10.03650379  10.03650379]\n"
     ]
    }
   ],
   "source": [
    "init = tf.global_variables_initializer()\n",
    "state_one_hot = np.eye(n_states)\n",
    "\n",
    "with tf.Session() as sess:\n",
    "    sess.run(init)\n",
    "    for itr in range(iterations):\n",
    "        v_theta = sess.run([outputs], feed_dict={inputs: state_one_hot})[0].T[0]\n",
    "        v_estimated = np.zeros(n_states)\n",
    "        for s in range(n_states):\n",
    "            v_estimated[s] = max(rewards[s,:] + gamma*np.dot(transition_prob[s,:], v_theta)) # Bellman Update\n",
    "        v_estimated = np.expand_dims(v_estimated, -1)\n",
    "        for i in range(n_epoch):\n",
    "            _, mse = sess.run([optimizer, loss], feed_dict={inputs: state_one_hot, targets: v_estimated})\n",
    "        print('Iteration %d, Error %f' % (itr, mse))\n",
    "                \n",
    "print(v_theta)"
   ]
  }
 ],
 "metadata": {
  "kernelspec": {
   "display_name": "Python 2",
   "language": "python",
   "name": "python2"
  },
  "language_info": {
   "codemirror_mode": {
    "name": "ipython",
    "version": 2
   },
   "file_extension": ".py",
   "mimetype": "text/x-python",
   "name": "python",
   "nbconvert_exporter": "python",
   "pygments_lexer": "ipython2",
   "version": "2.7.12"
  }
 },
 "nbformat": 4,
 "nbformat_minor": 1
}
