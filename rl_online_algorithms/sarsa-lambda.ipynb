{
 "cells": [
  {
   "cell_type": "markdown",
   "metadata": {},
   "source": [
    "## SARSA-lambda"
   ]
  },
  {
   "cell_type": "code",
   "execution_count": 37,
   "metadata": {
    "collapsed": false
   },
   "outputs": [],
   "source": [
    "import numpy as np\n",
    "import matplotlib.pyplot as plt\n",
    "%matplotlib inline\n",
    "\n",
    "from env_simulator import ToyEnv"
   ]
  },
  {
   "cell_type": "code",
   "execution_count": 2,
   "metadata": {
    "collapsed": true
   },
   "outputs": [],
   "source": [
    "env = ToyEnv()"
   ]
  },
  {
   "cell_type": "code",
   "execution_count": 34,
   "metadata": {
    "collapsed": true
   },
   "outputs": [],
   "source": [
    "n_states = env.observation_space.shape[0]\n",
    "n_actions = env.action_space.shape[0]\n",
    "n_episodes = 2000\n",
    "gamma = 0.98\n",
    "epsilon = 1\n",
    "max_steps_per_ep = 100\n",
    "learning_rate = 0.5\n",
    "Lambda = 0.35"
   ]
  },
  {
   "cell_type": "code",
   "execution_count": 31,
   "metadata": {
    "collapsed": false
   },
   "outputs": [],
   "source": [
    "Q = np.zeros([n_states, n_actions])"
   ]
  },
  {
   "cell_type": "code",
   "execution_count": 5,
   "metadata": {
    "collapsed": false
   },
   "outputs": [],
   "source": [
    "def choose_action(s):\n",
    "    prob = [float(epsilon)/n_actions]*n_actions\n",
    "    prob[np.argmax(Q[s,:])] += 1-epsilon\n",
    "    a = np.random.choice(n_actions,1,p=prob)\n",
    "    return a[0]"
   ]
  },
  {
   "cell_type": "code",
   "execution_count": 35,
   "metadata": {
    "collapsed": false
   },
   "outputs": [
    {
     "name": "stdout",
     "output_type": "stream",
     "text": [
      "Episode #0 : Reward = 1.000000, Avg Rew = 0.002000\n",
      "Episode #100 : Reward = 1.000000, Avg Rew = 0.042000\n",
      "Episode #200 : Reward = 1.000000, Avg Rew = 0.106000\n",
      "Episode #300 : Reward = -1.000000, Avg Rew = 0.194000\n",
      "Episode #400 : Reward = 1.000000, Avg Rew = 0.226000\n",
      "Episode #500 : Reward = 1.000000, Avg Rew = 0.240000\n",
      "Episode #600 : Reward = -1.000000, Avg Rew = 0.216000\n",
      "Episode #700 : Reward = 1.000000, Avg Rew = 0.156000\n",
      "Episode #800 : Reward = 1.000000, Avg Rew = 0.160000\n",
      "Episode #900 : Reward = 1.000000, Avg Rew = 0.184000\n",
      "Episode #1000 : Reward = 1.000000, Avg Rew = 0.280000\n",
      "Episode #1100 : Reward = 1.000000, Avg Rew = 0.352000\n",
      "Episode #1200 : Reward = 1.000000, Avg Rew = 0.456000\n",
      "Episode #1300 : Reward = 1.000000, Avg Rew = 0.460000\n",
      "Episode #1400 : Reward = 1.000000, Avg Rew = 0.536000\n",
      "Episode #1500 : Reward = -1.000000, Avg Rew = 0.492000\n",
      "Episode #1600 : Reward = -1.000000, Avg Rew = 0.512000\n",
      "Episode #1700 : Reward = -1.000000, Avg Rew = 0.504000\n",
      "Episode #1800 : Reward = 1.000000, Avg Rew = 0.496000\n",
      "Episode #1900 : Reward = 1.000000, Avg Rew = 0.476000\n"
     ]
    }
   ],
   "source": [
    "rewards = [] # To hold total reward per episode\n",
    "avg_rewards = [] # To hold running average of rewards per episode\n",
    "for ep in range(n_episodes):\n",
    "    E = np.zeros([n_states, n_actions])\n",
    "    s,r,done = env.reset()\n",
    "    a = choose_action(s)\n",
    "    n_step = 0\n",
    "    ep_r = 0\n",
    "    epsilon = 1.0/(ep+1)\n",
    "    while not done:\n",
    "        s1,r,done = env.step(a)\n",
    "        a1 = choose_action(s1)\n",
    "        delta = r + gamma*Q[s1,a1] - Q[s,a]\n",
    "        E[s,a] += 1\n",
    "        Q += learning_rate*delta*E\n",
    "        E = gamma*Lambda*E\n",
    "        s = s1\n",
    "        a = a1\n",
    "        ep_r += r\n",
    "        n_step += 1\n",
    "        if n_step > max_steps_per_ep:\n",
    "            break\n",
    "    rewards.append(ep_r)\n",
    "    avg_rewards.append(sum(rewards[-500:])/500.0)\n",
    "    if not ep % 100:\n",
    "        print(\"Episode #%d : Reward = %f, Avg Rew = %f\" % (ep, ep_r, avg_rewards[-1]))    "
   ]
  },
  {
   "cell_type": "code",
   "execution_count": 36,
   "metadata": {
    "collapsed": false
   },
   "outputs": [
    {
     "name": "stdout",
     "output_type": "stream",
     "text": [
      "Q Values Learned [[-41.20227658 -41.58704348 -41.84464352  -3.79086426]\n",
      " [-37.53571783 -41.98287531  -8.52127706 -38.2599538 ]\n",
      " [-42.71220766 -40.45239495 -31.14338738 -40.76899695]\n",
      " [-48.4556443  -48.4556443  -48.44004475 -48.44004475]\n",
      " [ 29.91987386  49.99993886  24.96795711  22.12603182]]\n"
     ]
    },
    {
     "data": {
      "text/plain": [
       "[<matplotlib.lines.Line2D at 0x7f4d88e4d750>]"
      ]
     },
     "execution_count": 36,
     "metadata": {},
     "output_type": "execute_result"
    },
    {
     "data": {
      "image/png": "[encoded data removed]",
      "text/plain": [
       "<matplotlib.figure.Figure at 0x7f4d88f49590>"
      ]
     },
     "metadata": {},
     "output_type": "display_data"
    }
   ],
   "source": [
    "print \"Q Values Learned\", Q\n",
    "plt.plot(avg_rewards)"
   ]
  }
 ],
 "metadata": {
  "kernelspec": {
   "display_name": "Python 2",
   "language": "python",
   "name": "python2"
  },
  "language_info": {
   "codemirror_mode": {
    "name": "ipython",
    "version": 2
   },
   "file_extension": ".py",
   "mimetype": "text/x-python",
   "name": "python",
   "nbconvert_exporter": "python",
   "pygments_lexer": "ipython2",
   "version": "2.7.12"
  }
 },
 "nbformat": 4,
 "nbformat_minor": 1
}
