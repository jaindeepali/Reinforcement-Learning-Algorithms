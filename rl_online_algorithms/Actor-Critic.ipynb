{
 "cells": [
  {
   "cell_type": "markdown",
   "metadata": {},
   "source": [
    "## Actor-Critic"
   ]
  },
  {
   "cell_type": "code",
   "execution_count": 1,
   "metadata": {
    "collapsed": false
   },
   "outputs": [],
   "source": [
    "import numpy as np\n",
    "import tensorflow as tf\n",
    "import matplotlib.pyplot as plt\n",
    "%matplotlib inline\n",
    "\n",
    "from env_simulator import ToyEnv"
   ]
  },
  {
   "cell_type": "code",
   "execution_count": 2,
   "metadata": {
    "collapsed": true
   },
   "outputs": [],
   "source": [
    "env = ToyEnv()"
   ]
  },
  {
   "cell_type": "code",
   "execution_count": 3,
   "metadata": {
    "collapsed": true
   },
   "outputs": [],
   "source": [
    "n_states = env.observation_space.shape[0]\n",
    "n_actions = env.action_space.shape[0]\n",
    "n_episodes = 2000\n",
    "gamma = 0.98\n",
    "max_steps_per_ep = 100\n",
    "learning_rate = 0.5"
   ]
  },
  {
   "cell_type": "code",
   "execution_count": 10,
   "metadata": {
    "collapsed": false
   },
   "outputs": [],
   "source": [
    "class PolicyNetwork():\n",
    "\n",
    "    def __init__(self, n_states, n_actions):\n",
    "        self.n_states = n_states\n",
    "        self.n_actions = n_actions\n",
    "        self.inputs = tf.placeholder(tf.float32, [None, n_states])\n",
    "        self.weights = tf.Variable(tf.random_uniform([n_states, n_actions],0,0.01))\n",
    "        self.outputs = tf.nn.softmax(tf.matmul(self.inputs, self.weights))\n",
    "        self.targets = tf.placeholder(tf.float32, [None, n_actions])\n",
    "        self.q_values = tf.placeholder(tf.float32, [None, 1], name='qVal')\n",
    "        \n",
    "        self.loss = tf.losses.softmax_cross_entropy(self.targets, self.outputs)\n",
    "        self.weighted_loss = tf.multiply(self.loss, self.q_values)\n",
    "        self.optimizer = tf.train.AdamOptimizer(learning_rate=learning_rate).minimize(self.loss)\n",
    "\n",
    "    def choose_action(self, s, sess, state_one_hot):\n",
    "        q = sess.run(self.outputs, feed_dict={self.inputs:state_one_hot[s:s+1]})[0].T\n",
    "        a = np.random.choice(self.n_actions,1,p=q)\n",
    "        return a[0]"
   ]
  },
  {
   "cell_type": "code",
   "execution_count": 4,
   "metadata": {
    "collapsed": true
   },
   "outputs": [],
   "source": [
    "class CriticNetwork():\n",
    "\n",
    "    def __init__(self, n_states, n_actions):\n",
    "        self.n_states = n_states\n",
    "        self.n_actions = n_actions\n",
    "        self.inputs = tf.placeholder(tf.float32, [None, n_states])\n",
    "        self.weights = tf.Variable(tf.random_uniform([n_states, n_actions],0,0.01))\n",
    "        self.outputs = tf.matmul(self.inputs, self.weights)\n",
    "        self.targets = tf.placeholder(tf.float32, [None, n_actions])\n",
    "\n",
    "        self.loss = tf.losses.mean_squared_error(self.targets, self.outputs)\n",
    "        self.optimizer = tf.train.AdamOptimizer(learning_rate=learning_rate).minimize(self.loss)"
   ]
  },
  {
   "cell_type": "code",
   "execution_count": 18,
   "metadata": {
    "collapsed": false
   },
   "outputs": [
    {
     "name": "stdout",
     "output_type": "stream",
     "text": [
      "Episode #0 : Reward = -1.000000, Avg Rew = -0.002000\n",
      "Episode #100 : Reward = -1.000000, Avg Rew = -0.026000\n",
      "Episode #200 : Reward = -1.000000, Avg Rew = -0.074000\n",
      "Episode #300 : Reward = -1.000000, Avg Rew = -0.118000\n",
      "Episode #400 : Reward = -1.000000, Avg Rew = -0.146000\n",
      "Episode #500 : Reward = 1.000000, Avg Rew = -0.148000\n",
      "Episode #600 : Reward = 1.000000, Avg Rew = -0.140000\n",
      "Episode #700 : Reward = -1.000000, Avg Rew = -0.104000\n",
      "Episode #800 : Reward = -1.000000, Avg Rew = -0.084000\n",
      "Episode #900 : Reward = 1.000000, Avg Rew = -0.072000\n",
      "Episode #1000 : Reward = -1.000000, Avg Rew = -0.100000\n",
      "Episode #1100 : Reward = -1.000000, Avg Rew = -0.092000\n",
      "Episode #1200 : Reward = 1.000000, Avg Rew = -0.108000\n",
      "Episode #1300 : Reward = 1.000000, Avg Rew = -0.128000\n",
      "Episode #1400 : Reward = 1.000000, Avg Rew = -0.132000\n",
      "Episode #1500 : Reward = -1.000000, Avg Rew = -0.108000\n",
      "Episode #1600 : Reward = -1.000000, Avg Rew = -0.112000\n",
      "Episode #1700 : Reward = -1.000000, Avg Rew = -0.088000\n",
      "Episode #1800 : Reward = 1.000000, Avg Rew = -0.048000\n",
      "Episode #1900 : Reward = 1.000000, Avg Rew = -0.056000\n"
     ]
    }
   ],
   "source": [
    "critic = CriticNetwork(n_states, n_actions)\n",
    "policy = PolicyNetwork(n_states, n_actions)\n",
    "\n",
    "init = tf.global_variables_initializer()\n",
    "state_one_hot = np.eye(n_states)\n",
    "action_one_hot = np.eye(n_actions)\n",
    "rewards = [] # To hold total reward per episode\n",
    "avg_rewards = [] # To hold running average of rewards per episode\n",
    "\n",
    "with tf.Session() as sess:\n",
    "    sess.run(init)\n",
    "    for ep in range(n_episodes):\n",
    "        s,r,done = env.reset()\n",
    "        a = policy.choose_action(s, sess, state_one_hot)\n",
    "        n_step = 0\n",
    "        ep_r = 0\n",
    "        while not done:\n",
    "            s1,r,done = env.step(a)\n",
    "            a1 = policy.choose_action(s1, sess, state_one_hot)\n",
    "            # Update policy network\n",
    "            q = sess.run(critic.outputs, feed_dict={critic.inputs:state_one_hot[s:s+1]})[0]\n",
    "            target_a = action_one_hot[a:a+1]\n",
    "            sess.run(policy.optimizer, feed_dict={policy.inputs:state_one_hot[s:s+1], policy.targets:target_a, policy.q_values:[q[a:a+1]]})\n",
    "            # Update critic network\n",
    "            q1 = sess.run(critic.outputs, feed_dict={critic.inputs:state_one_hot[s1:s1+1]})[0]\n",
    "            target_q = r + gamma*q1[a1]\n",
    "            q[a] = target_q\n",
    "            sess.run(critic.optimizer, feed_dict={critic.inputs:state_one_hot[s:s+1], critic.targets:[q]})\n",
    "            s = s1\n",
    "            a = a1\n",
    "            ep_r += r\n",
    "            n_step += 1\n",
    "            if n_step > max_steps_per_ep:\n",
    "                break\n",
    "        rewards.append(ep_r)\n",
    "        avg_rewards.append(sum(rewards[-500:])/500.0)\n",
    "        if not ep % 100:\n",
    "            print(\"Episode #%d : Reward = %f, Avg Rew = %f\" % (ep, ep_r, avg_rewards[-1]))    "
   ]
  },
  {
   "cell_type": "code",
   "execution_count": 19,
   "metadata": {
    "collapsed": false
   },
   "outputs": [
    {
     "data": {
      "text/plain": [
       "[<matplotlib.lines.Line2D at 0x7fd093db7250>]"
      ]
     },
     "execution_count": 19,
     "metadata": {},
     "output_type": "execute_result"
    },
    {
     "data": {
      "image/png": "[encoded data removed]",
      "text/plain": [
       "<matplotlib.figure.Figure at 0x7fd0b9fa6490>"
      ]
     },
     "metadata": {},
     "output_type": "display_data"
    }
   ],
   "source": [
    "plt.plot(avg_rewards)"
   ]
  }
 ],
 "metadata": {
  "kernelspec": {
   "display_name": "Python 2",
   "language": "python",
   "name": "python2"
  },
  "language_info": {
   "codemirror_mode": {
    "name": "ipython",
    "version": 2
   },
   "file_extension": ".py",
   "mimetype": "text/x-python",
   "name": "python",
   "nbconvert_exporter": "python",
   "pygments_lexer": "ipython2",
   "version": "2.7.12"
  }
 },
 "nbformat": 4,
 "nbformat_minor": 1
}
