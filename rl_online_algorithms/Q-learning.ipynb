{
 "cells": [
  {
   "cell_type": "markdown",
   "metadata": {},
   "source": [
    "## Q Learning through function approximation"
   ]
  },
  {
   "cell_type": "code",
   "execution_count": 2,
   "metadata": {
    "collapsed": false
   },
   "outputs": [],
   "source": [
    "import numpy as np\n",
    "import tensorflow as tf\n",
    "import matplotlib.pyplot as plt\n",
    "%matplotlib inline\n",
    "\n",
    "from env_simulator import ToyEnv"
   ]
  },
  {
   "cell_type": "code",
   "execution_count": 3,
   "metadata": {
    "collapsed": true
   },
   "outputs": [],
   "source": [
    "env = ToyEnv()"
   ]
  },
  {
   "cell_type": "code",
   "execution_count": 4,
   "metadata": {
    "collapsed": false
   },
   "outputs": [],
   "source": [
    "n_states = env.observation_space.shape[0]\n",
    "n_actions = env.action_space.shape[0]\n",
    "n_episodes = 2000\n",
    "gamma = 0.98\n",
    "epsilon = 1\n",
    "max_steps_per_ep = 100\n",
    "learning_rate = 0.5"
   ]
  },
  {
   "cell_type": "code",
   "execution_count": 18,
   "metadata": {
    "collapsed": false
   },
   "outputs": [],
   "source": [
    "class QNetwork():\n",
    "\n",
    "    def __init__(self, n_states, n_actions):\n",
    "        self.n_states = n_states\n",
    "        self.n_actions = n_actions\n",
    "        self.inputs = tf.placeholder(tf.float32, [None, n_states])\n",
    "        self.weights = tf.Variable(tf.random_uniform([n_states, n_actions],0,0.01))\n",
    "        self.outputs = tf.matmul(self.inputs, self.weights)\n",
    "        self.targets = tf.placeholder(tf.float32, [None, n_actions])\n",
    "\n",
    "        self.loss = tf.losses.mean_squared_error(self.targets, self.outputs)\n",
    "        self.optimizer = tf.train.AdamOptimizer(learning_rate=learning_rate).minimize(self.loss)\n",
    "\n",
    "    def choose_action(self, s, sess, epsilon, state_one_hot):\n",
    "        prob = [epsilon/self.n_actions]*self.n_actions\n",
    "        q = sess.run(self.outputs, feed_dict={self.inputs:state_one_hot[s:s+1]})[0].T\n",
    "        prob[np.argmax(q)] += 1-epsilon\n",
    "        a = np.random.choice(self.n_actions,1,p=prob)\n",
    "        return a[0], q"
   ]
  },
  {
   "cell_type": "code",
   "execution_count": 21,
   "metadata": {
    "collapsed": false
   },
   "outputs": [
    {
     "name": "stdout",
     "output_type": "stream",
     "text": [
      "Episode #0 : Reward = -1.000000, Avg Rew = -0.002000\n",
      "Episode #100 : Reward = 1.000000, Avg Rew = 0.070000\n",
      "Episode #200 : Reward = 1.000000, Avg Rew = 0.186000\n",
      "Episode #300 : Reward = 1.000000, Avg Rew = 0.306000\n",
      "Episode #400 : Reward = 1.000000, Avg Rew = 0.398000\n",
      "Episode #500 : Reward = 1.000000, Avg Rew = 0.508000\n",
      "Episode #600 : Reward = 1.000000, Avg Rew = 0.564000\n",
      "Episode #700 : Reward = 1.000000, Avg Rew = 0.548000\n",
      "Episode #800 : Reward = 1.000000, Avg Rew = 0.568000\n",
      "Episode #900 : Reward = 1.000000, Avg Rew = 0.560000\n",
      "Episode #1000 : Reward = -1.000000, Avg Rew = 0.544000\n",
      "Episode #1100 : Reward = 1.000000, Avg Rew = 0.496000\n",
      "Episode #1200 : Reward = 1.000000, Avg Rew = 0.488000\n",
      "Episode #1300 : Reward = 1.000000, Avg Rew = 0.468000\n",
      "Episode #1400 : Reward = 1.000000, Avg Rew = 0.456000\n",
      "Episode #1500 : Reward = 1.000000, Avg Rew = 0.460000\n",
      "Episode #1600 : Reward = 1.000000, Avg Rew = 0.488000\n",
      "Episode #1700 : Reward = 1.000000, Avg Rew = 0.492000\n",
      "Episode #1800 : Reward = 1.000000, Avg Rew = 0.488000\n",
      "Episode #1900 : Reward = 1.000000, Avg Rew = 0.516000\n"
     ]
    }
   ],
   "source": [
    "qnet = QNetwork(n_states, n_actions)\n",
    "init = tf.global_variables_initializer()\n",
    "state_one_hot = np.eye(n_states)\n",
    "rewards = [] # To hold total reward per episode\n",
    "avg_rewards = [] # To hold running average of rewards per episode\n",
    "\n",
    "with tf.Session() as sess:\n",
    "    sess.run(init)\n",
    "    for ep in range(n_episodes):\n",
    "        s,r,done = env.reset()\n",
    "        n_step = 0\n",
    "        ep_r = 0\n",
    "        epsilon = 1.0/(ep+1)\n",
    "        while not done:\n",
    "            a,q = qnet.choose_action(s, sess, epsilon, state_one_hot)\n",
    "            s1,r,done = env.step(a)\n",
    "            q1 = sess.run(qnet.outputs, feed_dict={qnet.inputs:state_one_hot[s1:s1+1]})[0].T\n",
    "            q[a] = r + gamma*max(q1)\n",
    "            sess.run(qnet.optimizer, feed_dict={qnet.inputs:state_one_hot[s:s+1], qnet.targets:[q]})\n",
    "            s = s1\n",
    "            ep_r += r\n",
    "            n_step += 1\n",
    "            if n_step > max_steps_per_ep:\n",
    "                break\n",
    "        rewards.append(ep_r)\n",
    "        avg_rewards.append(sum(rewards[-500:])/500.0)\n",
    "        if not ep % 100:\n",
    "            print(\"Episode #%d : Reward = %f, Avg Rew = %f\" % (ep, ep_r, avg_rewards[-1]))    "
   ]
  },
  {
   "cell_type": "code",
   "execution_count": 23,
   "metadata": {
    "collapsed": false
   },
   "outputs": [
    {
     "data": {
      "text/plain": [
       "[<matplotlib.lines.Line2D at 0x7fb478f3c490>]"
      ]
     },
     "execution_count": 23,
     "metadata": {},
     "output_type": "execute_result"
    },
    {
     "name": "stdout",
     "output_type": "stream",
     "text": [
      "\n"
     ]
    },
    {
     "data": {
      "image/png": "[encoded data removed]",
      "text/plain": [
       "<matplotlib.figure.Figure at 0x7fb49b42add0>"
      ]
     },
     "metadata": {},
     "output_type": "display_data"
    }
   ],
   "source": [
    "plt.plot(avg_rewards)"
   ]
  }
 ],
 "metadata": {
  "kernelspec": {
   "display_name": "Python 2",
   "language": "python",
   "name": "python2"
  },
  "language_info": {
   "codemirror_mode": {
    "name": "ipython",
    "version": 2
   },
   "file_extension": ".py",
   "mimetype": "text/x-python",
   "name": "python",
   "nbconvert_exporter": "python",
   "pygments_lexer": "ipython2",
   "version": "2.7.12"
  }
 },
 "nbformat": 4,
 "nbformat_minor": 1
}
