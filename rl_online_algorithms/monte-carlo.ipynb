{
 "cells": [
  {
   "cell_type": "markdown",
   "metadata": {},
   "source": [
    "## Monte Carlo Policy Iteration"
   ]
  },
  {
   "cell_type": "code",
   "execution_count": 2,
   "metadata": {
    "collapsed": false
   },
   "outputs": [],
   "source": [
    "import numpy as np\n",
    "import matplotlib.pyplot as plt\n",
    "%matplotlib inline\n",
    "\n",
    "from env_simulator import ToyEnv"
   ]
  },
  {
   "cell_type": "code",
   "execution_count": 3,
   "metadata": {
    "collapsed": true
   },
   "outputs": [],
   "source": [
    "env = ToyEnv()"
   ]
  },
  {
   "cell_type": "code",
   "execution_count": 4,
   "metadata": {
    "collapsed": true
   },
   "outputs": [],
   "source": [
    "n_states = env.observation_space.shape[0]\n",
    "n_actions = env.action_space.shape[0]\n",
    "n_episodes = 2000\n",
    "gamma = 0.98\n",
    "epsilon = 1\n",
    "max_steps_per_ep = 100\n",
    "learning_rate = 0.5"
   ]
  },
  {
   "cell_type": "code",
   "execution_count": 12,
   "metadata": {
    "collapsed": false
   },
   "outputs": [],
   "source": [
    "Q = np.zeros([n_states, n_actions])\n",
    "N = np.zeros([n_states, n_actions])"
   ]
  },
  {
   "cell_type": "code",
   "execution_count": 6,
   "metadata": {
    "collapsed": false
   },
   "outputs": [],
   "source": [
    "def choose_action(s):\n",
    "    prob = [float(epsilon)/n_actions]*n_actions\n",
    "    prob[np.argmax(Q[s,:])] += 1-epsilon\n",
    "    a = np.random.choice(n_actions,1,p=prob)\n",
    "    return a[0]"
   ]
  },
  {
   "cell_type": "code",
   "execution_count": 13,
   "metadata": {
    "collapsed": false
   },
   "outputs": [
    {
     "name": "stdout",
     "output_type": "stream",
     "text": [
      "Episode #0 : Reward = 1.000000, Avg Rew = 0.002000\n",
      "Episode #100 : Reward = 1.000000, Avg Rew = 0.022000\n",
      "Episode #200 : Reward = -1.000000, Avg Rew = 0.018000\n",
      "Episode #300 : Reward = 1.000000, Avg Rew = -0.006000\n",
      "Episode #400 : Reward = -1.000000, Avg Rew = 0.010000\n",
      "Episode #500 : Reward = -1.000000, Avg Rew = -0.008000\n",
      "Episode #600 : Reward = -1.000000, Avg Rew = -0.040000\n",
      "Episode #700 : Reward = 1.000000, Avg Rew = -0.056000\n",
      "Episode #800 : Reward = 1.000000, Avg Rew = -0.040000\n",
      "Episode #900 : Reward = 1.000000, Avg Rew = -0.056000\n",
      "Episode #1000 : Reward = 1.000000, Avg Rew = -0.060000\n",
      "Episode #1100 : Reward = 1.000000, Avg Rew = -0.024000\n",
      "Episode #1200 : Reward = -1.000000, Avg Rew = -0.028000\n",
      "Episode #1300 : Reward = 1.000000, Avg Rew = -0.040000\n",
      "Episode #1400 : Reward = 1.000000, Avg Rew = 0.000000\n",
      "Episode #1500 : Reward = -1.000000, Avg Rew = 0.008000\n",
      "Episode #1600 : Reward = -1.000000, Avg Rew = -0.036000\n",
      "Episode #1700 : Reward = -1.000000, Avg Rew = -0.020000\n",
      "Episode #1800 : Reward = 1.000000, Avg Rew = 0.004000\n",
      "Episode #1900 : Reward = 1.000000, Avg Rew = -0.028000\n"
     ]
    }
   ],
   "source": [
    "rewards = [] # To hold total reward per episode\n",
    "avg_rewards = [] # To hold running average of rewards per episode\n",
    "for ep in range(n_episodes):\n",
    "    s,r,done = env.reset()\n",
    "    a = choose_action(s)\n",
    "    r_list = []\n",
    "    s_list = []\n",
    "    n_step = 0\n",
    "    ep_r = 0\n",
    "    epsilon = 1.0/(ep+1)\n",
    "    while not done:\n",
    "        s_list.append((s,a))\n",
    "        N[s,a] += 1\n",
    "        s,r,done = env.step(a)\n",
    "        r_list.append(r)\n",
    "        a = choose_action(s)\n",
    "        ep_r += r\n",
    "        n_step += 1\n",
    "        if n_step > max_steps_per_ep:\n",
    "            break\n",
    "    discounted_r = 0\n",
    "    for i in range(len(r_list)-1,0,-1):\n",
    "        discounted_r = gamma*discounted_r + r_list[i]\n",
    "        Q[s_list[i]] += (1.0/N[s_list[i]])*(discounted_r - Q[s_list[i]])\n",
    "    rewards.append(ep_r)\n",
    "    avg_rewards.append(sum(rewards[-500:])/500.0)\n",
    "    if not ep % 100:\n",
    "        print(\"Episode #%d : Reward = %f, Avg Rew = %f\" % (ep, ep_r, avg_rewards[-1]))    "
   ]
  },
  {
   "cell_type": "code",
   "execution_count": 14,
   "metadata": {
    "collapsed": false
   },
   "outputs": [
    {
     "name": "stdout",
     "output_type": "stream",
     "text": [
      "Q Values Learned [[ 0.          0.          0.14844171  0.        ]\n",
      " [ 0.16301752  0.         -0.01523134  0.        ]\n",
      " [-0.43052742 -0.43037685 -0.27671071 -0.9604    ]\n",
      " [-1.         -1.         -1.         -1.        ]\n",
      " [ 0.          1.          0.          1.        ]]\n"
     ]
    },
    {
     "data": {
      "text/plain": [
       "[<matplotlib.lines.Line2D at 0x7f45f3ec8990>]"
      ]
     },
     "execution_count": 14,
     "metadata": {},
     "output_type": "execute_result"
    },
    {
     "data": {
      "image/png": "[encoded data removed]",
      "text/plain": [
       "<matplotlib.figure.Figure at 0x7f45f5efd450>"
      ]
     },
     "metadata": {},
     "output_type": "display_data"
    }
   ],
   "source": [
    "print \"Q Values Learned\", Q\n",
    "plt.plot(avg_rewards)"
   ]
  }
 ],
 "metadata": {
  "kernelspec": {
   "display_name": "Python 2",
   "language": "python",
   "name": "python2"
  },
  "language_info": {
   "codemirror_mode": {
    "name": "ipython",
    "version": 2
   },
   "file_extension": ".py",
   "mimetype": "text/x-python",
   "name": "python",
   "nbconvert_exporter": "python",
   "pygments_lexer": "ipython2",
   "version": "2.7.12"
  }
 },
 "nbformat": 4,
 "nbformat_minor": 1
}
