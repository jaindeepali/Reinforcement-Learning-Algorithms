{
 "cells": [
  {
   "cell_type": "markdown",
   "metadata": {},
   "source": [
    "## Path Consistency Learning\n",
    "### From the paper [\"Bridging the Gap Between Value and Policy Based Reinforcement Learning\"](https://arxiv.org/abs/1702.08892)"
   ]
  },
  {
   "cell_type": "code",
   "execution_count": 30,
   "metadata": {
    "collapsed": false
   },
   "outputs": [],
   "source": [
    "import numpy as np\n",
    "import tensorflow as tf\n",
    "import random\n",
    "import matplotlib.pyplot as plt\n",
    "%matplotlib inline\n",
    "\n",
    "from env_simulator import ToyEnv"
   ]
  },
  {
   "cell_type": "code",
   "execution_count": 31,
   "metadata": {
    "collapsed": true
   },
   "outputs": [],
   "source": [
    "env = ToyEnv()"
   ]
  },
  {
   "cell_type": "code",
   "execution_count": 127,
   "metadata": {
    "collapsed": false
   },
   "outputs": [],
   "source": [
    "n_states = env.observation_space.shape[0]\n",
    "n_actions = env.action_space.shape[0]\n",
    "n_episodes = 2000\n",
    "gamma = 0.98\n",
    "tau = 0.0001\n",
    "rollout_d = 5\n",
    "c = 0.5\n",
    "alpha = 0.4\n",
    "max_steps_per_ep = 100\n",
    "learning_rate_policy = 0.5\n",
    "learning_rate_value = c*learning_rate_policy"
   ]
  },
  {
   "cell_type": "code",
   "execution_count": 33,
   "metadata": {
    "collapsed": true
   },
   "outputs": [],
   "source": [
    "class VNetwork():\n",
    "\n",
    "    def __init__(self, n_states):\n",
    "        self.trainable_weights = []\n",
    "        self.n_states = n_states\n",
    "        self.inputs = tf.placeholder(tf.float32, [None, n_states])\n",
    "        self.weights = tf.Variable(tf.random_uniform([n_states, 1],0,0.01))\n",
    "        self.trainable_weights.append(self.weights)\n",
    "        self.outputs = tf.matmul(self.inputs, self.weights)\n",
    "        self.gradval = tf.gradients(ys = self.outputs, xs = self.trainable_weights, name='val_grad_ops')\n",
    "        self.gradweights = []\n",
    "        self.train_ops = []\n",
    "        for i, w in enumerate(self.trainable_weights):\n",
    "            self.gradweights.append(tf.placeholder(tf.float32))\n",
    "            self.train_ops.append(w.assign(w + learning_rate_value * self.gradweights[i]))"
   ]
  },
  {
   "cell_type": "code",
   "execution_count": 102,
   "metadata": {
    "collapsed": false
   },
   "outputs": [],
   "source": [
    "class PolicyNetwork():\n",
    "\n",
    "    def __init__(self, n_states, n_actions):\n",
    "        self.trainable_weights = []\n",
    "        self.n_states = n_states\n",
    "        self.n_actions = n_actions\n",
    "        self.inputs = tf.placeholder(tf.float32, [None, n_states], name='pnet_input')\n",
    "        self.weights = tf.Variable(tf.random_uniform([n_states, n_actions],0,0.01))\n",
    "        self.trainable_weights.append(self.weights)\n",
    "        self.outputs = tf.nn.softmax(tf.matmul(self.inputs, self.weights))\n",
    "        self.selected_action = tf.placeholder(tf.int32, [None,])\n",
    "        self.mask = tf.one_hot(self.selected_action, n_actions, on_value = True, off_value = False, dtype = tf.bool)\n",
    "        self.logprobs = tf.boolean_mask(tf.log(self.outputs), self.mask) ## How to do uneven slicing...\n",
    "        self.gradlogprobs = tf.gradients(ys = self.logprobs, xs = self.trainable_weights, name='policy_grad_ops')\n",
    "        self.gradweights = []\n",
    "        self.train_ops = []\n",
    "        for i, w in enumerate(self.trainable_weights):\n",
    "            self.gradweights.append(tf.placeholder(tf.float32, name='pnet_grad_weight_'+str(i)))\n",
    "            self.train_ops.append(w.assign(w + learning_rate_policy * self.gradweights[i]))\n",
    "\n",
    "    def choose_action(self, s, sess, tau, state_one_hot):\n",
    "        prob = sess.run(self.outputs, feed_dict={self.inputs:state_one_hot[s:s+1]})[0].T\n",
    "        a = np.random.choice(self.n_actions,1,p=prob)\n",
    "        return a[0], prob"
   ]
  },
  {
   "cell_type": "code",
   "execution_count": 150,
   "metadata": {
    "collapsed": false
   },
   "outputs": [],
   "source": [
    "def train(exp, sess):\n",
    "    exp = np.array(exp).reshape([-1,3])\n",
    "    n = exp.shape[0]\n",
    "    d = rollout_d\n",
    "    if n <= rollout_d:\n",
    "        d = n-1\n",
    "#         print(\"Setting rollout to %d.\" % (d))\n",
    "    gamma_exp = np.vectorize(lambda x: gamma**x)\n",
    "    discount_vector = gamma_exp(np.arange(d))\n",
    "#     print(\"Episode of length %d.\" % (n))\n",
    "    states = exp[:,0]\n",
    "    actions = exp[:,1]\n",
    "    rewards = exp[:,2]\n",
    "    log_probs = sess.run(pnet.logprobs, feed_dict={pnet.inputs:encode(states), pnet.selected_action:actions})\n",
    "    grad_log_probs = []\n",
    "    for i in range(n):\n",
    "        g = sess.run(pnet.gradlogprobs, feed_dict={pnet.inputs:encode(states[i:i+1]), pnet.selected_action:actions[i:i+1]})\n",
    "        grad_log_probs.append(g)\n",
    "    grad_log_probs = np.swapaxes(np.array(grad_log_probs), 0, 1)\n",
    "    vals = sess.run(vnet.outputs, feed_dict={vnet.inputs:encode(states)})\n",
    "    grad_vals = []\n",
    "    for i in range(n):\n",
    "        g = sess.run(vnet.gradval, feed_dict={vnet.inputs:encode(states[i:i+1])})\n",
    "        grad_vals.append(g)\n",
    "    grad_vals = np.swapaxes(np.array(grad_vals), 0, 1)\n",
    "    grad_pol_weights = {}\n",
    "    grad_val_weights = {}\n",
    "    for i in range(n-d):\n",
    "        z = rewards[i:i+d] - tau*log_probs[i:i+d]\n",
    "        c = -vals[i] + (gamma**d)*vals[i+d] + np.dot(discount_vector,z)\n",
    "        for j, g in enumerate(grad_log_probs):\n",
    "            grad = g[i]\n",
    "            for k in range(d-1):\n",
    "                grad += discount_vector[k+1]*g[i+k]  \n",
    "            grad_pol_weights[j] = grad_pol_weights.get(j,np.zeros(grad.shape)) + c*grad\n",
    "        for j, g in enumerate(grad_vals):\n",
    "            grad = g[i] - (gamma**d)*g[i+d-1]\n",
    "            grad_val_weights[j] = grad_val_weights.get(j,np.zeros(grad.shape)) + c*grad\n",
    "    sess.run(pnet.train_ops, feed_dict=dict(zip(pnet.gradweights, grad_pol_weights.values())))\n",
    "    sess.run(vnet.train_ops, feed_dict=dict(zip(vnet.gradweights, grad_val_weights.values())))"
   ]
  },
  {
   "cell_type": "code",
   "execution_count": null,
   "metadata": {
    "collapsed": false
   },
   "outputs": [
    {
     "name": "stdout",
     "output_type": "stream",
     "text": [
      "Episode #0 : Reward = 1.000000, Avg Rew = 0.002000\n",
      "Episode #100 : Reward = -1.000000, Avg Rew = -0.022000\n",
      "Episode #200 : Reward = -1.000000, Avg Rew = -0.062000\n",
      "Episode #300 : Reward = -1.000000, Avg Rew = -0.098000\n",
      "Episode #400 : Reward = 1.000000, Avg Rew = -0.142000\n",
      "Episode #500 : Reward = -1.000000, Avg Rew = -0.152000\n",
      "Episode #600 : Reward = 1.000000, Avg Rew = -0.160000\n",
      "Episode #700 : Reward = 1.000000, Avg Rew = -0.148000\n",
      "Episode #800 : Reward = 1.000000, Avg Rew = -0.132000\n",
      "Episode #900 : Reward = 1.000000, Avg Rew = -0.132000\n",
      "Episode #1000 : Reward = 1.000000, Avg Rew = -0.132000\n",
      "Episode #1100 : Reward = 1.000000, Avg Rew = -0.108000\n",
      "Episode #1200 : Reward = -1.000000, Avg Rew = -0.152000\n",
      "Episode #1300 : Reward = -1.000000, Avg Rew = -0.172000\n",
      "Episode #1400 : Reward = -1.000000, Avg Rew = -0.164000\n"
     ]
    }
   ],
   "source": [
    "exp_buffer = []\n",
    "pnet = PolicyNetwork(n_states, n_actions)\n",
    "vnet = VNetwork(n_states)\n",
    "\n",
    "state_one_hot = np.eye(n_states)\n",
    "encode = lambda x: state_one_hot[x.astype(int)]\n",
    "\n",
    "rewards = [] # To hold total reward per episode\n",
    "avg_rewards = [] # To hold running average of rewards per episode\n",
    "init = tf.global_variables_initializer()\n",
    "with tf.Session() as sess:\n",
    "    sess.run(init)\n",
    "    for ep in range(n_episodes):\n",
    "        s,r,done = env.reset()\n",
    "        n_step = 0\n",
    "        ep_r = 0\n",
    "        exp = []\n",
    "        while not done:\n",
    "            a, _ = pnet.choose_action(s, sess, epsilon, state_one_hot)\n",
    "            s1,r,done = env.step(a)\n",
    "            exp.extend([s,a,r])\n",
    "            s = s1\n",
    "            ep_r += r\n",
    "            n_step += 1\n",
    "            if n_step > max_steps_per_ep:\n",
    "                break\n",
    "        train(exp, sess)\n",
    "        exp_buffer.append(exp)\n",
    "        rewards.append(ep_r)\n",
    "        avg_rewards.append(sum(rewards[-500:])/500.0)\n",
    "        if len(exp_buffer) > 32:\n",
    "            z = np.exp(alpha*np.array(rewards))\n",
    "            sample_prob = (0.1 / len(exp_buffer)) + (0.9*z / np.sum(z))\n",
    "            for _ in range(20):\n",
    "                sampled_exp = [exp_buffer[i] for i in np.random.choice(len(exp_buffer), 1, p=sample_prob)]\n",
    "                train(sampled_exp, sess)\n",
    "        if not ep % 100:\n",
    "            print(\"Episode #%d : Reward = %f, Avg Rew = %f\" % (ep, ep_r, avg_rewards[-1]))    "
   ]
  },
  {
   "cell_type": "code",
   "execution_count": 152,
   "metadata": {
    "collapsed": false
   },
   "outputs": [
    {
     "data": {
      "text/plain": [
       "[<matplotlib.lines.Line2D at 0x7fdaf1f09210>]"
      ]
     },
     "execution_count": 152,
     "metadata": {},
     "output_type": "execute_result"
    },
    {
     "data": {
      "image/png": "[encoded data removed]",
      "text/plain": [
       "<matplotlib.figure.Figure at 0x7fdb18082590>"
      ]
     },
     "metadata": {},
     "output_type": "display_data"
    }
   ],
   "source": [
    "plt.plot(avg_rewards)"
   ]
  },
  {
   "cell_type": "code",
   "execution_count": 31,
   "metadata": {
    "collapsed": false
   },
   "outputs": [
    {
     "data": {
      "text/plain": [
       "[<matplotlib.lines.Line2D at 0x7fa6b6ad5b50>]"
      ]
     },
     "execution_count": 31,
     "metadata": {},
     "output_type": "execute_result"
    },
    {
     "data": {
      "image/png": "[encoded data removed]",
      "text/plain": [
       "<matplotlib.figure.Figure at 0x7fa6cd6921d0>"
      ]
     },
     "metadata": {},
     "output_type": "display_data"
    }
   ],
   "source": [
    "plt.plot(avg_rewards)"
   ]
  }
 ],
 "metadata": {
  "kernelspec": {
   "display_name": "Python 2",
   "language": "python",
   "name": "python2"
  },
  "language_info": {
   "codemirror_mode": {
    "name": "ipython",
    "version": 2
   },
   "file_extension": ".py",
   "mimetype": "text/x-python",
   "name": "python",
   "nbconvert_exporter": "python",
   "pygments_lexer": "ipython2",
   "version": "2.7.12"
  }
 },
 "nbformat": 4,
 "nbformat_minor": 1
}
