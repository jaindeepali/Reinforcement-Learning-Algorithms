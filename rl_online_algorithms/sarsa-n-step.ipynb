{
 "cells": [
  {
   "cell_type": "markdown",
   "metadata": {},
   "source": [
    "## SARSA"
   ]
  },
  {
   "cell_type": "code",
   "execution_count": 9,
   "metadata": {
    "collapsed": false
   },
   "outputs": [],
   "source": [
    "import numpy as np\n",
    "import matplotlib.pyplot as plt\n",
    "%matplotlib inline\n",
    "\n",
    "from env_simulator import ToyEnv"
   ]
  },
  {
   "cell_type": "code",
   "execution_count": 3,
   "metadata": {
    "collapsed": true
   },
   "outputs": [],
   "source": [
    "env = ToyEnv()"
   ]
  },
  {
   "cell_type": "code",
   "execution_count": 4,
   "metadata": {
    "collapsed": false
   },
   "outputs": [],
   "source": [
    "n_states = env.observation_space.shape[0]\n",
    "n_actions = env.action_space.shape[0]\n",
    "n_episodes = 2000\n",
    "gamma = 0.98\n",
    "epsilon = 1\n",
    "max_steps_per_ep = 100\n",
    "learning_rate = 0.5\n",
    "look_ahead = 5\n",
    "gamma_list = [1]\n",
    "for i in range(look_ahead-1):\n",
    "\tgamma_list.append(gamma_list[-1]*gamma)\n",
    "gamma_list = np.array(gamma_list)"
   ]
  },
  {
   "cell_type": "code",
   "execution_count": 22,
   "metadata": {
    "collapsed": false
   },
   "outputs": [],
   "source": [
    "Q = np.zeros([n_states, n_actions])"
   ]
  },
  {
   "cell_type": "code",
   "execution_count": 23,
   "metadata": {
    "collapsed": false
   },
   "outputs": [],
   "source": [
    "def choose_action(s):\n",
    "    prob = [float(epsilon)/n_actions]*n_actions\n",
    "    prob[np.argmax(Q[s,:])] += 1-epsilon\n",
    "    a = np.random.choice(n_actions,1,p=prob)\n",
    "    return a[0]"
   ]
  },
  {
   "cell_type": "code",
   "execution_count": 29,
   "metadata": {
    "collapsed": false
   },
   "outputs": [
    {
     "name": "stdout",
     "output_type": "stream",
     "text": [
      "Episode #0 : Reward = 1.000000, Avg Rew = 0.002000\n",
      "Episode #100 : Reward = 1.000000, Avg Rew = -0.002000\n",
      "Episode #200 : Reward = -1.000000, Avg Rew = 0.038000\n",
      "Episode #300 : Reward = 1.000000, Avg Rew = 0.066000\n",
      "Episode #400 : Reward = -1.000000, Avg Rew = 0.090000\n",
      "Episode #500 : Reward = -1.000000, Avg Rew = 0.084000\n",
      "Episode #600 : Reward = 1.000000, Avg Rew = 0.144000\n",
      "Episode #700 : Reward = -1.000000, Avg Rew = 0.144000\n",
      "Episode #800 : Reward = 1.000000, Avg Rew = 0.072000\n",
      "Episode #900 : Reward = 1.000000, Avg Rew = 0.108000\n",
      "Episode #1000 : Reward = -1.000000, Avg Rew = 0.104000\n",
      "Episode #1100 : Reward = 1.000000, Avg Rew = 0.092000\n",
      "Episode #1200 : Reward = 1.000000, Avg Rew = 0.172000\n",
      "Episode #1300 : Reward = 1.000000, Avg Rew = 0.312000\n",
      "Episode #1400 : Reward = 1.000000, Avg Rew = 0.364000\n",
      "Episode #1500 : Reward = -1.000000, Avg Rew = 0.480000\n",
      "Episode #1600 : Reward = -1.000000, Avg Rew = 0.484000\n",
      "Episode #1700 : Reward = -1.000000, Avg Rew = 0.424000\n",
      "Episode #1800 : Reward = 1.000000, Avg Rew = 0.404000\n",
      "Episode #1900 : Reward = -1.000000, Avg Rew = 0.384000\n"
     ]
    }
   ],
   "source": [
    "rewards = [] # To hold total reward per episode\n",
    "avg_rewards = [] # To hold running average of rewards per episode\n",
    "for ep in range(n_episodes):\n",
    "    s,r,done = env.reset()\n",
    "    r_list = []\n",
    "    s_list = []\n",
    "    n_step = 1\n",
    "    ep_r = 0\n",
    "    epsilon = 1.0/(ep+1)\n",
    "    while not done:\n",
    "        a = choose_action(s)\n",
    "        s1,r,done = env.step(a)\n",
    "        s_list.append((s,a))\n",
    "        r_list.append(r)\n",
    "        if n_step >= look_ahead:\n",
    "            g = np.dot(np.array(r_list[-look_ahead:]), gamma_list) + (gamma**look_ahead)*Q[s,a]\n",
    "            Q[s_list[-look_ahead]] += learning_rate*(g - Q[s_list[-look_ahead]])\n",
    "        s = s1\n",
    "        ep_r += r\n",
    "        if n_step > max_steps_per_ep:\n",
    "            break\n",
    "        n_step += 1\n",
    "    remaining = min(look_ahead, len(r_list))\n",
    "    for i in range(1, remaining):\n",
    "        g = np.dot(np.array(r_list[-remaining + i:]), gamma_list[:remaining-i]) + (gamma**(remaining-i))*Q[s,a]\n",
    "        Q[s_list[-remaining + i]] += learning_rate*(g - Q[s_list[-remaining + i]])\n",
    "    rewards.append(ep_r)\n",
    "    avg_rewards.append(sum(rewards[-500:])/500.0)\n",
    "    if not ep % 100:\n",
    "        print(\"Episode #%d : Reward = %f, Avg Rew = %f\" % (ep, ep_r, avg_rewards[-1]))"
   ]
  },
  {
   "cell_type": "code",
   "execution_count": 30,
   "metadata": {
    "collapsed": false
   },
   "outputs": [
    {
     "name": "stdout",
     "output_type": "stream",
     "text": [
      "Q Values Learned [[-35.28654713 -37.13056422 -34.29632906 -33.36333405]\n",
      " [-38.7186604  -38.63335089 -38.4147072  -37.56873022]\n",
      " [-32.49498844 -37.20438182 -37.97211511 -37.08671951]\n",
      " [-42.28890241 -42.28890241 -42.28890241 -42.21101254]\n",
      " [  0.5         49.99983192   0.5          0.5       ]]\n"
     ]
    },
    {
     "data": {
      "text/plain": [
       "[<matplotlib.lines.Line2D at 0x7fb2967c8290>]"
      ]
     },
     "execution_count": 30,
     "metadata": {},
     "output_type": "execute_result"
    },
    {
     "data": {
      "image/png": "[encoded data removed]",
      "text/plain": [
       "<matplotlib.figure.Figure at 0x7fb2968734d0>"
      ]
     },
     "metadata": {},
     "output_type": "display_data"
    }
   ],
   "source": [
    "print \"Q Values Learned\", Q\n",
    "plt.plot(avg_rewards)"
   ]
  }
 ],
 "metadata": {
  "kernelspec": {
   "display_name": "Python 2",
   "language": "python",
   "name": "python2"
  },
  "language_info": {
   "codemirror_mode": {
    "name": "ipython",
    "version": 2
   },
   "file_extension": ".py",
   "mimetype": "text/x-python",
   "name": "python",
   "nbconvert_exporter": "python",
   "pygments_lexer": "ipython2",
   "version": "2.7.12"
  }
 },
 "nbformat": 4,
 "nbformat_minor": 1
}
