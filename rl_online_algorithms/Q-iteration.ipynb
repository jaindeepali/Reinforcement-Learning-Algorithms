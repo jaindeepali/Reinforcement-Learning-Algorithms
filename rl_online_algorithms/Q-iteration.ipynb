{
 "cells": [
  {
   "cell_type": "markdown",
   "metadata": {},
   "source": [
    "## Q Value Iteration - table representation"
   ]
  },
  {
   "cell_type": "code",
   "execution_count": 4,
   "metadata": {
    "collapsed": true
   },
   "outputs": [],
   "source": [
    "import numpy as np\n",
    "import matplotlib.pyplot as plt\n",
    "%matplotlib inline\n",
    "\n",
    "from env_simulator import ToyEnv"
   ]
  },
  {
   "cell_type": "markdown",
   "metadata": {},
   "source": [
    "Initialize a toy online environment and set hyper-parameters"
   ]
  },
  {
   "cell_type": "code",
   "execution_count": 5,
   "metadata": {
    "collapsed": false
   },
   "outputs": [],
   "source": [
    "env = ToyEnv()\n",
    "n_states = env.observation_space.shape[0]\n",
    "n_actions = env.action_space.shape[0]\n",
    "n_episodes = 5000\n",
    "max_steps_per_ep = 100\n",
    "gamma = 0.9\n",
    "learning_rate = 0.8"
   ]
  },
  {
   "cell_type": "markdown",
   "metadata": {},
   "source": [
    "Inilialize an emplty matrix for storing Q values"
   ]
  },
  {
   "cell_type": "code",
   "execution_count": 35,
   "metadata": {
    "collapsed": true
   },
   "outputs": [],
   "source": [
    "Q = np.zeros([n_states, n_actions])"
   ]
  },
  {
   "cell_type": "markdown",
   "metadata": {},
   "source": [
    "Update Q values using TD error through iterative online interaction with the environment"
   ]
  },
  {
   "cell_type": "code",
   "execution_count": 36,
   "metadata": {
    "collapsed": true
   },
   "outputs": [
    {
     "name": "stdout",
     "output_type": "stream",
     "text": [
      "Episode #0 : Reward = 1.000000, Avg Rew = 0.002000\n",
      "Episode #100 : Reward = 1.000000, Avg Rew = 0.042000\n",
      "Episode #200 : Reward = 1.000000, Avg Rew = 0.050000\n",
      "Episode #300 : Reward = -1.000000, Avg Rew = 0.070000\n",
      "Episode #400 : Reward = -1.000000, Avg Rew = 0.086000\n",
      "Episode #500 : Reward = 1.000000, Avg Rew = 0.112000\n",
      "Episode #600 : Reward = 1.000000, Avg Rew = 0.112000\n",
      "Episode #700 : Reward = 1.000000, Avg Rew = 0.160000\n",
      "Episode #800 : Reward = -1.000000, Avg Rew = 0.192000\n",
      "Episode #900 : Reward = 1.000000, Avg Rew = 0.156000\n",
      "Episode #1000 : Reward = -1.000000, Avg Rew = 0.132000\n",
      "Episode #1100 : Reward = 1.000000, Avg Rew = 0.108000\n",
      "Episode #1200 : Reward = -1.000000, Avg Rew = 0.044000\n",
      "Episode #1300 : Reward = 1.000000, Avg Rew = 0.040000\n",
      "Episode #1400 : Reward = 1.000000, Avg Rew = 0.080000\n",
      "Episode #1500 : Reward = 1.000000, Avg Rew = 0.088000\n",
      "Episode #1600 : Reward = -1.000000, Avg Rew = 0.088000\n",
      "Episode #1700 : Reward = -1.000000, Avg Rew = 0.156000\n",
      "Episode #1800 : Reward = -1.000000, Avg Rew = 0.116000\n",
      "Episode #1900 : Reward = -1.000000, Avg Rew = 0.140000\n",
      "Episode #2000 : Reward = 1.000000, Avg Rew = 0.148000\n",
      "Episode #2100 : Reward = -1.000000, Avg Rew = 0.140000\n",
      "Episode #2200 : Reward = -1.000000, Avg Rew = 0.104000\n",
      "Episode #2300 : Reward = -1.000000, Avg Rew = 0.152000\n",
      "Episode #2400 : Reward = 1.000000, Avg Rew = 0.132000\n",
      "Episode #2500 : Reward = 1.000000, Avg Rew = 0.168000\n",
      "Episode #2600 : Reward = -1.000000, Avg Rew = 0.212000\n",
      "Episode #2700 : Reward = 1.000000, Avg Rew = 0.236000\n",
      "Episode #2800 : Reward = -1.000000, Avg Rew = 0.208000\n",
      "Episode #2900 : Reward = 1.000000, Avg Rew = 0.208000\n",
      "Episode #3000 : Reward = 1.000000, Avg Rew = 0.212000\n",
      "Episode #3100 : Reward = -1.000000, Avg Rew = 0.192000\n",
      "Episode #3200 : Reward = 1.000000, Avg Rew = 0.204000\n",
      "Episode #3300 : Reward = -1.000000, Avg Rew = 0.280000\n",
      "Episode #3400 : Reward = 1.000000, Avg Rew = 0.320000\n",
      "Episode #3500 : Reward = -1.000000, Avg Rew = 0.372000\n",
      "Episode #3600 : Reward = -1.000000, Avg Rew = 0.424000\n",
      "Episode #3700 : Reward = 1.000000, Avg Rew = 0.424000\n",
      "Episode #3800 : Reward = 1.000000, Avg Rew = 0.388000\n",
      "Episode #3900 : Reward = -1.000000, Avg Rew = 0.416000\n",
      "Episode #4000 : Reward = -1.000000, Avg Rew = 0.324000\n",
      "Episode #4100 : Reward = -1.000000, Avg Rew = 0.288000\n",
      "Episode #4200 : Reward = 1.000000, Avg Rew = 0.264000\n",
      "Episode #4300 : Reward = -1.000000, Avg Rew = 0.252000\n",
      "Episode #4400 : Reward = -1.000000, Avg Rew = 0.216000\n",
      "Episode #4500 : Reward = -1.000000, Avg Rew = 0.256000\n",
      "Episode #4600 : Reward = -1.000000, Avg Rew = 0.260000\n",
      "Episode #4700 : Reward = 1.000000, Avg Rew = 0.300000\n",
      "Episode #4800 : Reward = -1.000000, Avg Rew = 0.280000\n",
      "Episode #4900 : Reward = 1.000000, Avg Rew = 0.276000\n"
     ]
    }
   ],
   "source": [
    "rewards = [] # To hold total reward per episode\n",
    "avg_rewards = [] # To hold running average of rewards per episode\n",
    "for ep in range(n_episodes): \n",
    "    s,r,done = env.reset()\n",
    "    n_steps = 0\n",
    "    ep_r = 0\n",
    "    while not done:\n",
    "        a = np.argmax(Q[s,:])\n",
    "        s1,r,done = env.step(a)\n",
    "        Q[s,a] += learning_rate*(r + gamma*max(Q[s1,:]) - Q[s,a]) # Temporal difference update\n",
    "        s = s1\n",
    "        ep_r += r\n",
    "        n_steps += 1\n",
    "        if n_steps > max_steps_per_ep:\n",
    "            break\n",
    "    rewards.append(ep_r)\n",
    "    avg_rewards.append(sum(rewards[-500:])/500.0)\n",
    "    if not ep % 100:\n",
    "        print(\"Episode #%d : Reward = %f, Avg Rew = %f\" % (ep, ep_r, avg_rewards[-1]))"
   ]
  },
  {
   "cell_type": "code",
   "execution_count": 37,
   "metadata": {
    "collapsed": false
   },
   "outputs": [
    {
     "name": "stdout",
     "output_type": "stream",
     "text": [
      "Q Values Learned [[-8.99517016  4.85067519 -8.99459996 -8.99529516]\n",
      " [-8.59882526 -8.33123728 -8.45217717  8.21989319]\n",
      " [-8.86014766  5.28365918 -8.74255767 -8.79774515]\n",
      " [-10.         -10.         -10.         -10.        ]\n",
      " [10.          0.          0.          0.        ]]\n"
     ]
    },
    {
     "data": {
      "text/plain": [
       "[<matplotlib.lines.Line2D at 0x7f89fc0f5a90>]"
      ]
     },
     "execution_count": 37,
     "metadata": {},
     "output_type": "execute_result"
    },
    {
     "data": {
      "image/png": "[encoded data removed]",
      "text/plain": [
       "<matplotlib.figure.Figure at 0x7f89fc1e6bd0>"
      ]
     },
     "metadata": {},
     "output_type": "display_data"
    }
   ],
   "source": [
    "print \"Q Values Learned\", Q\n",
    "plt.plot(avg_rewards)"
   ]
  },
  {
   "cell_type": "markdown",
   "metadata": {},
   "source": [
    "### With e-greedy policy for exploration"
   ]
  },
  {
   "cell_type": "code",
   "execution_count": 8,
   "metadata": {
    "collapsed": true
   },
   "outputs": [],
   "source": [
    "epsilon = 1\n",
    "def choose_action(s):\n",
    "    prob = [epsilon/n_actions]*n_actions\n",
    "    prob[np.argmax(Q[s,:])] += 1-epsilon\n",
    "    a = np.random.choice(n_actions,1,p=prob)\n",
    "    return a[0]"
   ]
  },
  {
   "cell_type": "code",
   "execution_count": 9,
   "metadata": {
    "collapsed": true
   },
   "outputs": [
    {
     "name": "stdout",
     "output_type": "stream",
     "text": [
      "Episode #0 : Reward = 1.000000, Avg Rew = 0.002000\n",
      "Episode #100 : Reward = -1.000000, Avg Rew = 0.082000\n",
      "Episode #200 : Reward = 1.000000, Avg Rew = 0.158000\n",
      "Episode #300 : Reward = 1.000000, Avg Rew = 0.210000\n",
      "Episode #400 : Reward = -1.000000, Avg Rew = 0.306000\n",
      "Episode #500 : Reward = 1.000000, Avg Rew = 0.420000\n",
      "Episode #600 : Reward = 1.000000, Avg Rew = 0.444000\n",
      "Episode #700 : Reward = 1.000000, Avg Rew = 0.372000\n",
      "Episode #800 : Reward = 1.000000, Avg Rew = 0.444000\n",
      "Episode #900 : Reward = 1.000000, Avg Rew = 0.480000\n",
      "Episode #1000 : Reward = -1.000000, Avg Rew = 0.472000\n",
      "Episode #1100 : Reward = 1.000000, Avg Rew = 0.488000\n",
      "Episode #1200 : Reward = -1.000000, Avg Rew = 0.612000\n",
      "Episode #1300 : Reward = 1.000000, Avg Rew = 0.588000\n",
      "Episode #1400 : Reward = 1.000000, Avg Rew = 0.556000\n",
      "Episode #1500 : Reward = -1.000000, Avg Rew = 0.492000\n",
      "Episode #1600 : Reward = 1.000000, Avg Rew = 0.360000\n",
      "Episode #1700 : Reward = 1.000000, Avg Rew = 0.296000\n",
      "Episode #1800 : Reward = 1.000000, Avg Rew = 0.328000\n",
      "Episode #1900 : Reward = -1.000000, Avg Rew = 0.328000\n",
      "Episode #2000 : Reward = 1.000000, Avg Rew = 0.392000\n",
      "Episode #2100 : Reward = -1.000000, Avg Rew = 0.512000\n",
      "Episode #2200 : Reward = 1.000000, Avg Rew = 0.560000\n",
      "Episode #2300 : Reward = 1.000000, Avg Rew = 0.544000\n",
      "Episode #2400 : Reward = -1.000000, Avg Rew = 0.588000\n",
      "Episode #2500 : Reward = 1.000000, Avg Rew = 0.592000\n",
      "Episode #2600 : Reward = 1.000000, Avg Rew = 0.596000\n",
      "Episode #2700 : Reward = 1.000000, Avg Rew = 0.620000\n",
      "Episode #2800 : Reward = 1.000000, Avg Rew = 0.612000\n",
      "Episode #2900 : Reward = 1.000000, Avg Rew = 0.588000\n",
      "Episode #3000 : Reward = 1.000000, Avg Rew = 0.556000\n",
      "Episode #3100 : Reward = 1.000000, Avg Rew = 0.556000\n",
      "Episode #3200 : Reward = 1.000000, Avg Rew = 0.528000\n",
      "Episode #3300 : Reward = 1.000000, Avg Rew = 0.528000\n",
      "Episode #3400 : Reward = -1.000000, Avg Rew = 0.552000\n",
      "Episode #3500 : Reward = 1.000000, Avg Rew = 0.600000\n",
      "Episode #3600 : Reward = 1.000000, Avg Rew = 0.580000\n",
      "Episode #3700 : Reward = 1.000000, Avg Rew = 0.560000\n",
      "Episode #3800 : Reward = 1.000000, Avg Rew = 0.528000\n",
      "Episode #3900 : Reward = 1.000000, Avg Rew = 0.492000\n",
      "Episode #4000 : Reward = 1.000000, Avg Rew = 0.492000\n",
      "Episode #4100 : Reward = 1.000000, Avg Rew = 0.524000\n",
      "Episode #4200 : Reward = 1.000000, Avg Rew = 0.552000\n",
      "Episode #4300 : Reward = 1.000000, Avg Rew = 0.604000\n",
      "Episode #4400 : Reward = 1.000000, Avg Rew = 0.608000\n",
      "Episode #4500 : Reward = 1.000000, Avg Rew = 0.604000\n",
      "Episode #4600 : Reward = 1.000000, Avg Rew = 0.612000\n",
      "Episode #4700 : Reward = -1.000000, Avg Rew = 0.604000\n",
      "Episode #4800 : Reward = 1.000000, Avg Rew = 0.564000\n",
      "Episode #4900 : Reward = 1.000000, Avg Rew = 0.588000\n"
     ]
    }
   ],
   "source": [
    "Q = np.zeros([n_states, n_actions])\n",
    "rewards = [] # To hold total reward per episode\n",
    "avg_rewards = [] # To hold running average of rewards per episode\n",
    "for ep in range(n_episodes):\n",
    "    s,r,done = env.reset()\n",
    "    n_step = 0\n",
    "    ep_r = 0\n",
    "    epsilon = 1.0/(ep+1)\n",
    "    while not done:\n",
    "        a = choose_action(s)\n",
    "        s1,r,done = env.step(a)\n",
    "        Q[s,a] += learning_rate*(r + gamma*max(Q[s1,:]) - Q[s,a])\n",
    "        s = s1\n",
    "        ep_r += r\n",
    "        n_step += 1\n",
    "        if n_step > max_steps_per_ep:\n",
    "            break\n",
    "    rewards.append(ep_r)\n",
    "    avg_rewards.append(sum(rewards[-500:])/500.0)\n",
    "    if not ep % 100:\n",
    "        print(\"Episode #%d : Reward = %f, Avg Rew = %f\" % (ep, ep_r, avg_rewards[-1]))"
   ]
  },
  {
   "cell_type": "code",
   "execution_count": 10,
   "metadata": {
    "collapsed": false
   },
   "outputs": [
    {
     "name": "stdout",
     "output_type": "stream",
     "text": [
      "Q Values Learned [[-8.94705122 -8.93794625  2.52056985 -8.9061306 ]\n",
      " [ 7.47971213 -8.46308329 -8.5413802  -8.46297807]\n",
      " [-8.82295409 -8.93650504 -6.51546523 -8.9617631 ]\n",
      " [-10.         -10.         -10.         -10.        ]\n",
      " [ 5.92694492  8.         10.          9.24488748]]\n"
     ]
    },
    {
     "data": {
      "text/plain": [
       "[<matplotlib.lines.Line2D at 0x7f06e0535e50>]"
      ]
     },
     "execution_count": 10,
     "metadata": {},
     "output_type": "execute_result"
    },
    {
     "data": {
      "image/png": "[encoded data removed]",
      "text/plain": [
       "<matplotlib.figure.Figure at 0x7f06e061e250>"
      ]
     },
     "metadata": {},
     "output_type": "display_data"
    }
   ],
   "source": [
    "print \"Q Values Learned\", Q\n",
    "plt.plot(avg_rewards)"
   ]
  }
 ],
 "metadata": {
  "kernelspec": {
   "display_name": "Python 2",
   "language": "python",
   "name": "python2"
  },
  "language_info": {
   "codemirror_mode": {
    "name": "ipython",
    "version": 2
   },
   "file_extension": ".py",
   "mimetype": "text/x-python",
   "name": "python",
   "nbconvert_exporter": "python",
   "pygments_lexer": "ipython2",
   "version": "2.7.12"
  }
 },
 "nbformat": 4,
 "nbformat_minor": 1
}
