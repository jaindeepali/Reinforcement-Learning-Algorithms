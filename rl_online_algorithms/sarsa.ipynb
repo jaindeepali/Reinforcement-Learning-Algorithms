{
 "cells": [
  {
   "cell_type": "markdown",
   "metadata": {},
   "source": [
    "## SARSA"
   ]
  },
  {
   "cell_type": "code",
   "execution_count": 8,
   "metadata": {
    "collapsed": false
   },
   "outputs": [],
   "source": [
    "import numpy as np\n",
    "import matplotlib.pyplot as plt\n",
    "%matplotlib inline\n",
    "\n",
    "from env_simulator import ToyEnv"
   ]
  },
  {
   "cell_type": "code",
   "execution_count": 2,
   "metadata": {
    "collapsed": true
   },
   "outputs": [],
   "source": [
    "env = ToyEnv()"
   ]
  },
  {
   "cell_type": "code",
   "execution_count": 3,
   "metadata": {
    "collapsed": true
   },
   "outputs": [],
   "source": [
    "n_states = env.observation_space.shape[0]\n",
    "n_actions = env.action_space.shape[0]\n",
    "n_episodes = 2000\n",
    "gamma = 0.98\n",
    "epsilon = 1\n",
    "max_steps_per_ep = 100\n",
    "learning_rate = 0.5"
   ]
  },
  {
   "cell_type": "code",
   "execution_count": 4,
   "metadata": {
    "collapsed": false
   },
   "outputs": [],
   "source": [
    "Q = np.zeros([n_states, n_actions])"
   ]
  },
  {
   "cell_type": "code",
   "execution_count": 5,
   "metadata": {
    "collapsed": false
   },
   "outputs": [],
   "source": [
    "def choose_action(s):\n",
    "    prob = [float(epsilon)/n_actions]*n_actions\n",
    "    prob[np.argmax(Q[s,:])] += 1-epsilon\n",
    "    a = np.random.choice(n_actions,1,p=prob)\n",
    "    return a[0]"
   ]
  },
  {
   "cell_type": "code",
   "execution_count": 6,
   "metadata": {
    "collapsed": true
   },
   "outputs": [
    {
     "name": "stdout",
     "output_type": "stream",
     "text": [
      "Episode #0 : Reward = -1.000000, Avg Rew = -0.002000\n",
      "Episode #100 : Reward = -1.000000, Avg Rew = 0.014000\n",
      "Episode #200 : Reward = -1.000000, Avg Rew = 0.090000\n",
      "Episode #300 : Reward = 1.000000, Avg Rew = 0.178000\n",
      "Episode #400 : Reward = -1.000000, Avg Rew = 0.262000\n",
      "Episode #500 : Reward = 1.000000, Avg Rew = 0.372000\n",
      "Episode #600 : Reward = 1.000000, Avg Rew = 0.432000\n",
      "Episode #700 : Reward = -1.000000, Avg Rew = 0.428000\n",
      "Episode #800 : Reward = 1.000000, Avg Rew = 0.392000\n",
      "Episode #900 : Reward = 1.000000, Avg Rew = 0.372000\n",
      "Episode #1000 : Reward = 1.000000, Avg Rew = 0.304000\n",
      "Episode #1100 : Reward = 1.000000, Avg Rew = 0.272000\n",
      "Episode #1200 : Reward = 1.000000, Avg Rew = 0.280000\n",
      "Episode #1300 : Reward = -1.000000, Avg Rew = 0.300000\n",
      "Episode #1400 : Reward = 1.000000, Avg Rew = 0.324000\n",
      "Episode #1500 : Reward = -1.000000, Avg Rew = 0.336000\n",
      "Episode #1600 : Reward = 1.000000, Avg Rew = 0.356000\n",
      "Episode #1700 : Reward = 1.000000, Avg Rew = 0.336000\n",
      "Episode #1800 : Reward = 1.000000, Avg Rew = 0.352000\n",
      "Episode #1900 : Reward = 1.000000, Avg Rew = 0.372000\n"
     ]
    }
   ],
   "source": [
    "rewards = [] # To hold total reward per episode\n",
    "avg_rewards = [] # To hold running average of rewards per episode\n",
    "for ep in range(n_episodes):\n",
    "    s,r,done = env.reset()\n",
    "    a = choose_action(s)\n",
    "    n_step = 0\n",
    "    ep_r = 0\n",
    "    epsilon = 1.0/(ep+1)\n",
    "    while not done:\n",
    "        s1,r,done = env.step(a)\n",
    "        a1 = choose_action(s1)\n",
    "        Q[s,a] += learning_rate*(r + gamma*Q[s1,a1] - Q[s,a])\n",
    "        s = s1\n",
    "        a = a1\n",
    "        ep_r += r\n",
    "        n_step += 1\n",
    "        if n_step > max_steps_per_ep:\n",
    "            break\n",
    "    rewards.append(ep_r)\n",
    "    avg_rewards.append(sum(rewards[-500:])/500.0)\n",
    "    if not ep % 100:\n",
    "        print(\"Episode #%d : Reward = %f, Avg Rew = %f\" % (ep, ep_r, avg_rewards[-1]))    "
   ]
  },
  {
   "cell_type": "code",
   "execution_count": 9,
   "metadata": {
    "collapsed": false
   },
   "outputs": [
    {
     "name": "stdout",
     "output_type": "stream",
     "text": [
      "Q Values Learned [[-17.28337203 -29.59213425  15.07831353 -29.28484296]\n",
      " [-31.14499487 -30.31868687  17.34639654 -30.59258556]\n",
      " [-29.9864543  -30.81309299 -30.67745945  23.7560085 ]\n",
      " [-40.12308933 -40.16064255 -40.2100834  -40.22161062]\n",
      " [ 49.99988166   2.16439898   0.          11.07327959]]\n"
     ]
    },
    {
     "data": {
      "text/plain": [
       "[<matplotlib.lines.Line2D at 0x7fa8e8902e50>]"
      ]
     },
     "execution_count": 9,
     "metadata": {},
     "output_type": "execute_result"
    },
    {
     "data": {
      "image/png": "[encoded data removed]",
      "text/plain": [
       "<matplotlib.figure.Figure at 0x7fa8eac2d290>"
      ]
     },
     "metadata": {},
     "output_type": "display_data"
    }
   ],
   "source": [
    "print \"Q Values Learned\", Q\n",
    "plt.plot(avg_rewards)"
   ]
  }
 ],
 "metadata": {
  "kernelspec": {
   "display_name": "Python 2",
   "language": "python",
   "name": "python2"
  },
  "language_info": {
   "codemirror_mode": {
    "name": "ipython",
    "version": 2
   },
   "file_extension": ".py",
   "mimetype": "text/x-python",
   "name": "python",
   "nbconvert_exporter": "python",
   "pygments_lexer": "ipython2",
   "version": "2.7.12"
  }
 },
 "nbformat": 4,
 "nbformat_minor": 1
}
